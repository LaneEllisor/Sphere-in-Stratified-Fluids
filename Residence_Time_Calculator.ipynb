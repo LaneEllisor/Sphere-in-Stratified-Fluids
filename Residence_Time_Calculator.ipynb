{
  "nbformat": 4,
  "nbformat_minor": 0,
  "metadata": {
    "colab": {
      "provenance": []
    },
    "kernelspec": {
      "name": "python3",
      "display_name": "Python 3"
    },
    "language_info": {
      "name": "python"
    }
  },
  "cells": [
    {
      "cell_type": "code",
      "execution_count": null,
      "metadata": {
        "id": "fNjwyVsx_aHB"
      },
      "outputs": [],
      "source": [
        "# from google.colab import drive\n",
        "# drive.mount('/content/gdrive')"
      ]
    },
    {
      "cell_type": "code",
      "source": [
        "import numpy as np\n",
        "import matplotlib.pyplot as plt\n",
        "import scipy as sp\n",
        "from os import makedirs,path\n",
        "from errno import EEXIST\n",
        "\n",
        "import pandas as pd\n",
        "from datetime import datetime, timezone, date"
      ],
      "metadata": {
        "id": "xe8-99Hr_goM"
      },
      "execution_count": null,
      "outputs": []
    },
    {
      "cell_type": "code",
      "source": [
        "def mkdir_p(mypath):\n",
        "    # Creates a directory: same as mkdir or fulltime(path)\n",
        "    try:\n",
        "        makedirs(mypath)\n",
        "    except OSError as exc:\n",
        "        if exc.errno == EEXIST and path.isdir(mypath):\n",
        "            pass\n",
        "        else: raise\n",
        "\n",
        "\n",
        "\n",
        "\n",
        "# Creating directory for a path\n",
        "\n",
        "#filename = 'Figures/VariableSweeps/h={h}/Ni={Ni}/N={N}/rhos={rhos}/rhot={rhot}/rhob={rhob}'.format(h=h, Ni=Ni, N=N, rhos=rhos, rhot=rhot, rhob=rhob) #path for fig save\n",
        "\n",
        "now = datetime.now()\n",
        "\n",
        "\n",
        "datestring = now.strftime('%Y_%m_%d')\n",
        "timestring= now.strftime(\"%H_%M\")\n",
        "\n",
        "\n",
        "\n",
        "\n",
        "fulltime = datetime.today().strftime('%Y-%m-%d/%H_%M')\n",
        "\n",
        "filename = '/content/gdrive/MyDrive/Output/{fulltime}'.format(fulltime=fulltime) #path for fig save\n",
        "\n",
        "mkdir_p(filename)"
      ],
      "metadata": {
        "id": "5Laj3W9q_ism"
      },
      "execution_count": null,
      "outputs": []
    },
    {
      "cell_type": "code",
      "source": [
        "filename"
      ],
      "metadata": {
        "colab": {
          "base_uri": "https://localhost:8080/",
          "height": 35
        },
        "id": "_PgdrIYf_lfG",
        "outputId": "fcfaf887-0731-49c9-e5f1-032de90f4de9"
      },
      "execution_count": null,
      "outputs": [
        {
          "output_type": "execute_result",
          "data": {
            "text/plain": [
              "'/content/gdrive/MyDrive/Output/2024-07-11/15_15'"
            ],
            "application/vnd.google.colaboratory.intrinsic+json": {
              "type": "string"
            }
          },
          "metadata": {},
          "execution_count": 94
        }
      ]
    },
    {
      "cell_type": "code",
      "source": [
        "\n",
        "#=============================================================================\n",
        "# Physical Constants Exp. Data\n",
        "\n",
        "\n",
        "dt = 0.05\n",
        "\n",
        "R0 = 5.4 #xend value\n",
        "\n",
        "\n",
        "\n",
        "A = 0.641\n",
        "\n",
        "\n",
        "\n",
        "\n",
        "rhos = 1.352\n",
        "\n",
        "rhob = 1.32\n",
        "rhot = 1.317\n",
        "\n",
        "\n",
        "mu = 4.773326883\n",
        "\n",
        "# expno = 1\n",
        "\n",
        "g = 981.0\n",
        "\n",
        "\n",
        "\n",
        "K = (1-2.10444*(A / R0)+2.08877*(A/R0)**3)\n",
        "\n",
        "\n",
        "\n",
        "\n",
        "frtd = 4.0/3.0\n",
        "hf = 0.5\n",
        "thd = 1/3.0\n",
        "sxth = 1/6.0\n",
        "twonths = 2.0/9.0\n",
        "svnhf = 7.0/ 2.0\n",
        "\n",
        "\n",
        "oneoversixmuA = 1.0/ (6.0*np.pi*mu*A)\n",
        "govereightpimu = g / (8.0*np.pi*mu)"
      ],
      "metadata": {
        "id": "Tq0dYncq_n1c"
      },
      "execution_count": null,
      "outputs": []
    },
    {
      "cell_type": "code",
      "source": [
        "rhosrhob = rhos-rhob\n",
        "\n",
        "\n",
        "rhobrhot = rhob-rhot\n",
        "print('rhob-rhot=', rhobrhot)\n",
        "print('rhos-rhob=', rhosrhob)\n"
      ],
      "metadata": {
        "colab": {
          "base_uri": "https://localhost:8080/"
        },
        "id": "qC8TEwsvnQq3",
        "outputId": "806038b3-4a16-4fa6-8592-93edb4d0a225"
      },
      "execution_count": null,
      "outputs": [
        {
          "output_type": "stream",
          "name": "stdout",
          "text": [
            "rhob-rhot= 0.0030000000000001137\n",
            "rhos-rhob= 0.03200000000000003\n"
          ]
        }
      ]
    },
    {
      "cell_type": "code",
      "source": [],
      "metadata": {
        "id": "H5UJasPtJQfy"
      },
      "execution_count": null,
      "outputs": []
    },
    {
      "cell_type": "code",
      "source": [
        "lightblue = '#89B3D1'\n",
        "mediumblue = '#1F77B4'\n",
        "darkblue = '#0A4A7A'"
      ],
      "metadata": {
        "id": "dbOOCxi8_pI_"
      },
      "execution_count": null,
      "outputs": []
    },
    {
      "cell_type": "code",
      "source": [
        "time_df = pd.read_csv('t_array.txt', dtype=float)\n",
        "\n",
        "sphvels_df = pd.read_csv('sphvels.txt', dtype=float)\n",
        "\n",
        "X_df = pd.read_csv('dataX.txt', dtype=float)\n",
        "\n",
        "Y_df = pd.read_csv('dataY.txt', dtype=float)\n",
        "\n",
        "yend_df = pd.read_csv('yend_array.txt', dtype=float)"
      ],
      "metadata": {
        "id": "J0wZdiIT_qns"
      },
      "execution_count": null,
      "outputs": []
    },
    {
      "cell_type": "code",
      "source": [
        "len(sphvels_df)"
      ],
      "metadata": {
        "colab": {
          "base_uri": "https://localhost:8080/"
        },
        "id": "IRvjS2CXBrP3",
        "outputId": "e746a964-7fd6-4f1f-c1a7-45a0ab95c76d"
      },
      "execution_count": null,
      "outputs": [
        {
          "output_type": "execute_result",
          "data": {
            "text/plain": [
              "1118"
            ]
          },
          "metadata": {},
          "execution_count": 99
        }
      ]
    },
    {
      "cell_type": "code",
      "source": [
        "V_TermTop =  (2*A**2 *g)/(9*mu)*(rhot-rhos)\n",
        "V_TermBttm = (2*A**2 *g)/(9*mu)*(rhob-rhos)\n",
        "\n",
        "V_TermTopk =  (2*A**2 *g)/(9*mu)*(rhot-rhos)*K\n",
        "V_TermBttmk = (2*A**2 *g)/(9*mu)*(rhob-rhos)*K\n"
      ],
      "metadata": {
        "id": "yDbe5Js_AAg0"
      },
      "execution_count": null,
      "outputs": []
    },
    {
      "cell_type": "code",
      "source": [
        "print('Terminal Velocity Top: ', -V_TermTop)\n",
        "print('Terminal Velocity Bottom: ', -V_TermBttm)"
      ],
      "metadata": {
        "colab": {
          "base_uri": "https://localhost:8080/"
        },
        "id": "Iiqthl4bDyYy",
        "outputId": "df94c7f1-f259-4ae0-c298-77fc04919ca9"
      },
      "execution_count": null,
      "outputs": [
        {
          "output_type": "stream",
          "name": "stdout",
          "text": [
            "Terminal Velocity Top:  0.6567792457636328\n",
            "Terminal Velocity Bottom:  0.6004838818410339\n"
          ]
        }
      ]
    },
    {
      "cell_type": "code",
      "source": [
        "##\n",
        "\n",
        "plt1, axes = plt.subplots()\n",
        "\n",
        "\n",
        "#plt.title('Sphere Velocity vs. Time')\n",
        "plt.xlabel('Time (s)')\n",
        "plt.ylabel('Velocity (cm/s)')\n",
        "\n",
        "\n",
        "plt.plot(time_df, sphvels_df, color='tab:orange', label = 'Sphere Velocity')\n",
        "\n",
        "plt.hlines(y= -V_TermTop,  xmin=0, xmax=len(time_df)*dt, color='tab:blue', linestyle='dashed', alpha=0.3, label = r' Terminal Velocities')\n",
        "plt.hlines(y= -V_TermBttm,  xmin=0, xmax=len(time_df)*dt, color='tab:blue', linestyle='dashed', alpha=0.3)\n",
        "\n",
        "\n",
        "plt.hlines(y=-cst1*V_TermBttm,  xmin=0, xmax=len(time_df)*dt, color='tab:purple', linestyle='dashed', alpha=0.3)\n",
        "\n",
        "\n",
        "plt.legend(loc=\"upper left\", bbox_to_anchor=(1, 0, 0.5, 1.01))\n",
        "\n"
      ],
      "metadata": {
        "colab": {
          "base_uri": "https://localhost:8080/",
          "height": 467
        },
        "id": "5-EO35enAU5q",
        "outputId": "b8dca10e-81bc-4f42-c59b-195e0cc8481a"
      },
      "execution_count": null,
      "outputs": [
        {
          "output_type": "execute_result",
          "data": {
            "text/plain": [
              "<matplotlib.legend.Legend at 0x7e3e96066950>"
            ]
          },
          "metadata": {},
          "execution_count": 104
        },
        {
          "output_type": "display_data",
          "data": {
            "text/plain": [
              "<Figure size 640x480 with 1 Axes>"
            ],
            "image/png": "[encoded data removed]"
          },
          "metadata": {}
        }
      ]
    },
    {
      "cell_type": "code",
      "source": [
        "\n",
        "##\n",
        "\n",
        "plt2, axes = plt.subplots()\n",
        "\n",
        "\n",
        "#plt.title('Sphere Velocity vs. Time')\n",
        "plt.xlabel('Position (cm)')\n",
        "plt.ylabel('Velocity (cm/s)')\n",
        "\n",
        "\n",
        "plt.plot(yend_df, sphvels_df, color='tab:orange', label = 'Sphere Velocity')\n",
        "\n",
        "plt.hlines(y=-V_TermTop,  xmin=-11, xmax=-3, color='tab:blue', linestyle='dashed', alpha=0.3, label = r' Terminal Velocities')\n",
        "plt.hlines(y=-V_TermBttm,  xmin=10, xmax=25, color='tab:blue', linestyle='dashed', alpha=0.3)\n",
        "\n",
        "# plt.vlines(x=-A,  ymin=0.208, ymax=0.20875, color='tab:pink', linestyle='dashed', alpha=0.3, label = r' $\\pm A$')\n",
        "# plt.vlines(x=A,  ymin=0.208, ymax=0.20875, color='tab:pink', linestyle='dashed', alpha=0.3)\n",
        "\n",
        "\n",
        "plt.legend(loc=\"upper left\", bbox_to_anchor=(1, 0, 0.5, 1.01))\n",
        "\n"
      ],
      "metadata": {
        "colab": {
          "base_uri": "https://localhost:8080/",
          "height": 467
        },
        "id": "808HTo-MCQkB",
        "outputId": "7555104b-b5bf-442c-8fce-02201cca4f08"
      },
      "execution_count": null,
      "outputs": [
        {
          "output_type": "execute_result",
          "data": {
            "text/plain": [
              "<matplotlib.legend.Legend at 0x7e3e98d6b2b0>"
            ]
          },
          "metadata": {},
          "execution_count": 105
        },
        {
          "output_type": "display_data",
          "data": {
            "text/plain": [
              "<Figure size 640x480 with 1 Axes>"
            ],
            "image/png": "[encoded data removed]"
          },
          "metadata": {}
        }
      ]
    },
    {
      "cell_type": "code",
      "source": [
        "-V_TermTop*0.9"
      ],
      "metadata": {
        "colab": {
          "base_uri": "https://localhost:8080/"
        },
        "id": "lB4umzQNB083",
        "outputId": "921df90d-9214-4b9f-db30-240c18ef8e92"
      },
      "execution_count": null,
      "outputs": [
        {
          "output_type": "execute_result",
          "data": {
            "text/plain": [
              "0.5911013211872695"
            ]
          },
          "metadata": {},
          "execution_count": 106
        }
      ]
    },
    {
      "cell_type": "code",
      "source": [
        "cst = 0.99"
      ],
      "metadata": {
        "id": "Vyqm6IK4LSng"
      },
      "execution_count": null,
      "outputs": []
    },
    {
      "cell_type": "code",
      "source": [
        "time_df"
      ],
      "metadata": {
        "id": "XptehVpUDdLa",
        "colab": {
          "base_uri": "https://localhost:8080/",
          "height": 424
        },
        "outputId": "6749e516-44c6-4493-e597-75e9c94ffa62"
      },
      "execution_count": null,
      "outputs": [
        {
          "output_type": "execute_result",
          "data": {
            "text/plain": [
              "        0.0\n",
              "0      0.05\n",
              "1      0.10\n",
              "2      0.15\n",
              "3      0.20\n",
              "4      0.25\n",
              "...     ...\n",
              "1113  55.70\n",
              "1114  55.75\n",
              "1115  55.80\n",
              "1116  55.85\n",
              "1117  55.90\n",
              "\n",
              "[1118 rows x 1 columns]"
            ],
            "text/html": [
              "\n",
              "  <div id=\"df-5138adad-def3-4f9a-b9fa-a1420db75b8c\" class=\"colab-df-container\">\n",
              "    <div>\n",
              "<style scoped>\n",
              "    .dataframe tbody tr th:only-of-type {\n",
              "        vertical-align: middle;\n",
              "    }\n",
              "\n",
              "    .dataframe tbody tr th {\n",
              "        vertical-align: top;\n",
              "    }\n",
              "\n",
              "    .dataframe thead th {\n",
              "        text-align: right;\n",
              "    }\n",
              "</style>\n",
              "<table border=\"1\" class=\"dataframe\">\n",
              "  <thead>\n",
              "    <tr style=\"text-align: right;\">\n",
              "      <th></th>\n",
              "      <th>0.0</th>\n",
              "    </tr>\n",
              "  </thead>\n",
              "  <tbody>\n",
              "    <tr>\n",
              "      <th>0</th>\n",
              "      <td>0.05</td>\n",
              "    </tr>\n",
              "    <tr>\n",
              "      <th>1</th>\n",
              "      <td>0.10</td>\n",
              "    </tr>\n",
              "    <tr>\n",
              "      <th>2</th>\n",
              "      <td>0.15</td>\n",
              "    </tr>\n",
              "    <tr>\n",
              "      <th>3</th>\n",
              "      <td>0.20</td>\n",
              "    </tr>\n",
              "    <tr>\n",
              "      <th>4</th>\n",
              "      <td>0.25</td>\n",
              "    </tr>\n",
              "    <tr>\n",
              "      <th>...</th>\n",
              "      <td>...</td>\n",
              "    </tr>\n",
              "    <tr>\n",
              "      <th>1113</th>\n",
              "      <td>55.70</td>\n",
              "    </tr>\n",
              "    <tr>\n",
              "      <th>1114</th>\n",
              "      <td>55.75</td>\n",
              "    </tr>\n",
              "    <tr>\n",
              "      <th>1115</th>\n",
              "      <td>55.80</td>\n",
              "    </tr>\n",
              "    <tr>\n",
              "      <th>1116</th>\n",
              "      <td>55.85</td>\n",
              "    </tr>\n",
              "    <tr>\n",
              "      <th>1117</th>\n",
              "      <td>55.90</td>\n",
              "    </tr>\n",
              "  </tbody>\n",
              "</table>\n",
              "<p>1118 rows × 1 columns</p>\n",
              "</div>\n",
              "    <div class=\"colab-df-buttons\">\n",
              "\n",
              "  <div class=\"colab-df-container\">\n",
              "    <button class=\"colab-df-convert\" onclick=\"convertToInteractive('df-5138adad-def3-4f9a-b9fa-a1420db75b8c')\"\n",
              "            title=\"Convert this dataframe to an interactive table.\"\n",
              "            style=\"display:none;\">\n",
              "\n",
              "  <svg xmlns=\"http://www.w3.org/2000/svg\" height=\"24px\" viewBox=\"0 -960 960 960\">\n",
              "    <path d=\"M120-120v-720h720v720H120Zm60-500h600v-160H180v160Zm220 220h160v-160H400v160Zm0 220h160v-160H400v160ZM180-400h160v-160H180v160Zm440 0h160v-160H620v160ZM180-180h160v-160H180v160Zm440 0h160v-160H620v160Z\"/>\n",
              "  </svg>\n",
              "    </button>\n",
              "\n",
              "  <style>\n",
              "    .colab-df-container {\n",
              "      display:flex;\n",
              "      gap: 12px;\n",
              "    }\n",
              "\n",
              "    .colab-df-convert {\n",
              "      background-color: #E8F0FE;\n",
              "      border: none;\n",
              "      border-radius: 50%;\n",
              "      cursor: pointer;\n",
              "      display: none;\n",
              "      fill: #1967D2;\n",
              "      height: 32px;\n",
              "      padding: 0 0 0 0;\n",
              "      width: 32px;\n",
              "    }\n",
              "\n",
              "    .colab-df-convert:hover {\n",
              "      background-color: #E2EBFA;\n",
              "      box-shadow: 0px 1px 2px rgba(60, 64, 67, 0.3), 0px 1px 3px 1px rgba(60, 64, 67, 0.15);\n",
              "      fill: #174EA6;\n",
              "    }\n",
              "\n",
              "    .colab-df-buttons div {\n",
              "      margin-bottom: 4px;\n",
              "    }\n",
              "\n",
              "    [theme=dark] .colab-df-convert {\n",
              "      background-color: #3B4455;\n",
              "      fill: #D2E3FC;\n",
              "    }\n",
              "\n",
              "    [theme=dark] .colab-df-convert:hover {\n",
              "      background-color: #434B5C;\n",
              "      box-shadow: 0px 1px 3px 1px rgba(0, 0, 0, 0.15);\n",
              "      filter: drop-shadow(0px 1px 2px rgba(0, 0, 0, 0.3));\n",
              "      fill: #FFFFFF;\n",
              "    }\n",
              "  </style>\n",
              "\n",
              "    <script>\n",
              "      const buttonEl =\n",
              "        document.querySelector('#df-5138adad-def3-4f9a-b9fa-a1420db75b8c button.colab-df-convert');\n",
              "      buttonEl.style.display =\n",
              "        google.colab.kernel.accessAllowed ? 'block' : 'none';\n",
              "\n",
              "      async function convertToInteractive(key) {\n",
              "        const element = document.querySelector('#df-5138adad-def3-4f9a-b9fa-a1420db75b8c');\n",
              "        const dataTable =\n",
              "          await google.colab.kernel.invokeFunction('convertToInteractive',\n",
              "                                                    [key], {});\n",
              "        if (!dataTable) return;\n",
              "\n",
              "        const docLinkHtml = 'Like what you see? Visit the ' +\n",
              "          '<a target=\"_blank\" href=https://colab.research.google.com/notebooks/data_table.ipynb>data table notebook</a>'\n",
              "          + ' to learn more about interactive tables.';\n",
              "        element.innerHTML = '';\n",
              "        dataTable['output_type'] = 'display_data';\n",
              "        await google.colab.output.renderOutput(dataTable, element);\n",
              "        const docLink = document.createElement('div');\n",
              "        docLink.innerHTML = docLinkHtml;\n",
              "        element.appendChild(docLink);\n",
              "      }\n",
              "    </script>\n",
              "  </div>\n",
              "\n",
              "\n",
              "<div id=\"df-fea568ee-174c-47f3-adfc-b3de45d23158\">\n",
              "  <button class=\"colab-df-quickchart\" onclick=\"quickchart('df-fea568ee-174c-47f3-adfc-b3de45d23158')\"\n",
              "            title=\"Suggest charts\"\n",
              "            style=\"display:none;\">\n",
              "\n",
              "<svg xmlns=\"http://www.w3.org/2000/svg\" height=\"24px\"viewBox=\"0 0 24 24\"\n",
              "     width=\"24px\">\n",
              "    <g>\n",
              "        <path d=\"M19 3H5c-1.1 0-2 .9-2 2v14c0 1.1.9 2 2 2h14c1.1 0 2-.9 2-2V5c0-1.1-.9-2-2-2zM9 17H7v-7h2v7zm4 0h-2V7h2v10zm4 0h-2v-4h2v4z\"/>\n",
              "    </g>\n",
              "</svg>\n",
              "  </button>\n",
              "\n",
              "<style>\n",
              "  .colab-df-quickchart {\n",
              "      --bg-color: #E8F0FE;\n",
              "      --fill-color: #1967D2;\n",
              "      --hover-bg-color: #E2EBFA;\n",
              "      --hover-fill-color: #174EA6;\n",
              "      --disabled-fill-color: #AAA;\n",
              "      --disabled-bg-color: #DDD;\n",
              "  }\n",
              "\n",
              "  [theme=dark] .colab-df-quickchart {\n",
              "      --bg-color: #3B4455;\n",
              "      --fill-color: #D2E3FC;\n",
              "      --hover-bg-color: #434B5C;\n",
              "      --hover-fill-color: #FFFFFF;\n",
              "      --disabled-bg-color: #3B4455;\n",
              "      --disabled-fill-color: #666;\n",
              "  }\n",
              "\n",
              "  .colab-df-quickchart {\n",
              "    background-color: var(--bg-color);\n",
              "    border: none;\n",
              "    border-radius: 50%;\n",
              "    cursor: pointer;\n",
              "    display: none;\n",
              "    fill: var(--fill-color);\n",
              "    height: 32px;\n",
              "    padding: 0;\n",
              "    width: 32px;\n",
              "  }\n",
              "\n",
              "  .colab-df-quickchart:hover {\n",
              "    background-color: var(--hover-bg-color);\n",
              "    box-shadow: 0 1px 2px rgba(60, 64, 67, 0.3), 0 1px 3px 1px rgba(60, 64, 67, 0.15);\n",
              "    fill: var(--button-hover-fill-color);\n",
              "  }\n",
              "\n",
              "  .colab-df-quickchart-complete:disabled,\n",
              "  .colab-df-quickchart-complete:disabled:hover {\n",
              "    background-color: var(--disabled-bg-color);\n",
              "    fill: var(--disabled-fill-color);\n",
              "    box-shadow: none;\n",
              "  }\n",
              "\n",
              "  .colab-df-spinner {\n",
              "    border: 2px solid var(--fill-color);\n",
              "    border-color: transparent;\n",
              "    border-bottom-color: var(--fill-color);\n",
              "    animation:\n",
              "      spin 1s steps(1) infinite;\n",
              "  }\n",
              "\n",
              "  @keyframes spin {\n",
              "    0% {\n",
              "      border-color: transparent;\n",
              "      border-bottom-color: var(--fill-color);\n",
              "      border-left-color: var(--fill-color);\n",
              "    }\n",
              "    20% {\n",
              "      border-color: transparent;\n",
              "      border-left-color: var(--fill-color);\n",
              "      border-top-color: var(--fill-color);\n",
              "    }\n",
              "    30% {\n",
              "      border-color: transparent;\n",
              "      border-left-color: var(--fill-color);\n",
              "      border-top-color: var(--fill-color);\n",
              "      border-right-color: var(--fill-color);\n",
              "    }\n",
              "    40% {\n",
              "      border-color: transparent;\n",
              "      border-right-color: var(--fill-color);\n",
              "      border-top-color: var(--fill-color);\n",
              "    }\n",
              "    60% {\n",
              "      border-color: transparent;\n",
              "      border-right-color: var(--fill-color);\n",
              "    }\n",
              "    80% {\n",
              "      border-color: transparent;\n",
              "      border-right-color: var(--fill-color);\n",
              "      border-bottom-color: var(--fill-color);\n",
              "    }\n",
              "    90% {\n",
              "      border-color: transparent;\n",
              "      border-bottom-color: var(--fill-color);\n",
              "    }\n",
              "  }\n",
              "</style>\n",
              "\n",
              "  <script>\n",
              "    async function quickchart(key) {\n",
              "      const quickchartButtonEl =\n",
              "        document.querySelector('#' + key + ' button');\n",
              "      quickchartButtonEl.disabled = true;  // To prevent multiple clicks.\n",
              "      quickchartButtonEl.classList.add('colab-df-spinner');\n",
              "      try {\n",
              "        const charts = await google.colab.kernel.invokeFunction(\n",
              "            'suggestCharts', [key], {});\n",
              "      } catch (error) {\n",
              "        console.error('Error during call to suggestCharts:', error);\n",
              "      }\n",
              "      quickchartButtonEl.classList.remove('colab-df-spinner');\n",
              "      quickchartButtonEl.classList.add('colab-df-quickchart-complete');\n",
              "    }\n",
              "    (() => {\n",
              "      let quickchartButtonEl =\n",
              "        document.querySelector('#df-fea568ee-174c-47f3-adfc-b3de45d23158 button');\n",
              "      quickchartButtonEl.style.display =\n",
              "        google.colab.kernel.accessAllowed ? 'block' : 'none';\n",
              "    })();\n",
              "  </script>\n",
              "</div>\n",
              "\n",
              "  <div id=\"id_fc6ac240-015a-4ec2-b935-03122880c001\">\n",
              "    <style>\n",
              "      .colab-df-generate {\n",
              "        background-color: #E8F0FE;\n",
              "        border: none;\n",
              "        border-radius: 50%;\n",
              "        cursor: pointer;\n",
              "        display: none;\n",
              "        fill: #1967D2;\n",
              "        height: 32px;\n",
              "        padding: 0 0 0 0;\n",
              "        width: 32px;\n",
              "      }\n",
              "\n",
              "      .colab-df-generate:hover {\n",
              "        background-color: #E2EBFA;\n",
              "        box-shadow: 0px 1px 2px rgba(60, 64, 67, 0.3), 0px 1px 3px 1px rgba(60, 64, 67, 0.15);\n",
              "        fill: #174EA6;\n",
              "      }\n",
              "\n",
              "      [theme=dark] .colab-df-generate {\n",
              "        background-color: #3B4455;\n",
              "        fill: #D2E3FC;\n",
              "      }\n",
              "\n",
              "      [theme=dark] .colab-df-generate:hover {\n",
              "        background-color: #434B5C;\n",
              "        box-shadow: 0px 1px 3px 1px rgba(0, 0, 0, 0.15);\n",
              "        filter: drop-shadow(0px 1px 2px rgba(0, 0, 0, 0.3));\n",
              "        fill: #FFFFFF;\n",
              "      }\n",
              "    </style>\n",
              "    <button class=\"colab-df-generate\" onclick=\"generateWithVariable('time_df')\"\n",
              "            title=\"Generate code using this dataframe.\"\n",
              "            style=\"display:none;\">\n",
              "\n",
              "  <svg xmlns=\"http://www.w3.org/2000/svg\" height=\"24px\"viewBox=\"0 0 24 24\"\n",
              "       width=\"24px\">\n",
              "    <path d=\"M7,19H8.4L18.45,9,17,7.55,7,17.6ZM5,21V16.75L18.45,3.32a2,2,0,0,1,2.83,0l1.4,1.43a1.91,1.91,0,0,1,.58,1.4,1.91,1.91,0,0,1-.58,1.4L9.25,21ZM18.45,9,17,7.55Zm-12,3A5.31,5.31,0,0,0,4.9,8.1,5.31,5.31,0,0,0,1,6.5,5.31,5.31,0,0,0,4.9,4.9,5.31,5.31,0,0,0,6.5,1,5.31,5.31,0,0,0,8.1,4.9,5.31,5.31,0,0,0,12,6.5,5.46,5.46,0,0,0,6.5,12Z\"/>\n",
              "  </svg>\n",
              "    </button>\n",
              "    <script>\n",
              "      (() => {\n",
              "      const buttonEl =\n",
              "        document.querySelector('#id_fc6ac240-015a-4ec2-b935-03122880c001 button.colab-df-generate');\n",
              "      buttonEl.style.display =\n",
              "        google.colab.kernel.accessAllowed ? 'block' : 'none';\n",
              "\n",
              "      buttonEl.onclick = () => {\n",
              "        google.colab.notebook.generateWithVariable('time_df');\n",
              "      }\n",
              "      })();\n",
              "    </script>\n",
              "  </div>\n",
              "\n",
              "    </div>\n",
              "  </div>\n"
            ],
            "application/vnd.google.colaboratory.intrinsic+json": {
              "type": "dataframe",
              "variable_name": "time_df",
              "summary": "{\n  \"name\": \"time_df\",\n  \"rows\": 1118,\n  \"fields\": [\n    {\n      \"column\": \"0.0\",\n      \"properties\": {\n        \"dtype\": \"number\",\n        \"std\": 16.14415528914412,\n        \"min\": 0.05,\n        \"max\": 55.900000000000006,\n        \"num_unique_values\": 1118,\n        \"samples\": [\n          49.85,\n          5.1000000000000005,\n          24.35\n        ],\n        \"semantic_type\": \"\",\n        \"description\": \"\"\n      }\n    }\n  ]\n}"
            }
          },
          "metadata": {},
          "execution_count": 147
        }
      ]
    },
    {
      "cell_type": "code",
      "source": [
        "time_df.shape"
      ],
      "metadata": {
        "colab": {
          "base_uri": "https://localhost:8080/"
        },
        "id": "gPbOXBXfZimE",
        "outputId": "eb037f84-38e7-4778-fd9e-f0483e843949"
      },
      "execution_count": null,
      "outputs": [
        {
          "output_type": "execute_result",
          "data": {
            "text/plain": [
              "(1118, 1)"
            ]
          },
          "metadata": {},
          "execution_count": 166
        }
      ]
    },
    {
      "cell_type": "code",
      "source": [],
      "metadata": {
        "id": "cRUQJIgWkbhY"
      },
      "execution_count": null,
      "outputs": []
    },
    {
      "cell_type": "code",
      "source": [
        "\n",
        "# Residence Time\n",
        "\n",
        "#firsttime = 1.0*(( sphvels_df < -V_TermTop) & (sphvels_df < -cst*V_TermBttm ))\n",
        "\n",
        "firsttime = 1.0*(( sphvels_df < -V_TermTop) & (sphvels_df < -cst*V_TermBttm ) )\n",
        "\n",
        "\n",
        "\n",
        "firsttime_indicies = np.where(firsttime)[0]\n",
        "\n",
        "\n",
        "\n",
        "t0_index = firsttime_indicies[0]\n",
        "tf_index = firsttime_indicies[-1]\n",
        "\n",
        "t0 = time_df.iloc[t0_index][0]\n",
        "tf = time_df.iloc[tf_index][0]\n",
        "\n",
        "\n",
        "print('t0:', t0)\n",
        "print('tf:', tf)\n",
        "\n",
        "residencetime = abs(t0-tf)\n",
        "\n",
        "\n",
        "print('residence time:', residencetime)\n"
      ],
      "metadata": {
        "colab": {
          "base_uri": "https://localhost:8080/"
        },
        "id": "nux01lRjAn8x",
        "outputId": "55c364ad-9fa8-4f4d-b272-700b666af5ee"
      },
      "execution_count": null,
      "outputs": [
        {
          "output_type": "stream",
          "name": "stdout",
          "text": [
            "t0: 6.8500000000000005\n",
            "tf: 18.633333333333336\n",
            "residence time: 11.783333333333335\n"
          ]
        }
      ]
    },
    {
      "cell_type": "code",
      "source": [
        "plt1, axes = plt.subplots()\n",
        "\n",
        "\n",
        "#plt.title('Sphere Velocity vs. Time')\n",
        "plt.xlabel('Time (s)')\n",
        "plt.ylabel('Velocity (cm/s)')\n",
        "\n",
        "\n",
        "plt.plot(time_df, sphvels_df, color='tab:orange', label = 'Sphere Velocity')\n",
        "\n",
        "plt.axhline(y= -V_TermTop, color='tab:blue', linestyle='dashed', alpha=0.3, label = r' Terminal Velocities')\n",
        "plt.axhline(y= -V_TermBttm,  color='tab:blue', linestyle='dashed', alpha=0.3)\n",
        "\n",
        "plt.axvline(x=t0, color='tab:pink', ls='dotted', label='Residence Time Region')\n",
        "plt.axvline(x=tf, color='tab:purple', ls='dotted')\n",
        "\n",
        "plt.legend(loc=\"upper left\", bbox_to_anchor=(1, 0, 0.5, 1.01))\n",
        "\n"
      ],
      "metadata": {
        "id": "i4n_yHz1Bg2-",
        "colab": {
          "base_uri": "https://localhost:8080/",
          "height": 456
        },
        "outputId": "d2410dec-36b5-4dc0-d1a9-0807dfc65b4f"
      },
      "execution_count": null,
      "outputs": [
        {
          "output_type": "execute_result",
          "data": {
            "text/plain": [
              "<matplotlib.legend.Legend at 0x7e3e99212b60>"
            ]
          },
          "metadata": {},
          "execution_count": 188
        },
        {
          "output_type": "display_data",
          "data": {
            "text/plain": [
              "<Figure size 640x480 with 1 Axes>"
            ],
            "image/png": "[encoded data removed]"
          },
          "metadata": {}
        }
      ]
    },
    {
      "cell_type": "code",
      "source": [
        "t0_index"
      ],
      "metadata": {
        "id": "wQntHtG-PLem",
        "colab": {
          "base_uri": "https://localhost:8080/"
        },
        "outputId": "cb74d89d-67a4-45ba-ea28-859288a36c7a"
      },
      "execution_count": null,
      "outputs": [
        {
          "output_type": "execute_result",
          "data": {
            "text/plain": [
              "136"
            ]
          },
          "metadata": {},
          "execution_count": 114
        }
      ]
    },
    {
      "cell_type": "code",
      "source": [
        "tf_index"
      ],
      "metadata": {
        "colab": {
          "base_uri": "https://localhost:8080/"
        },
        "id": "OLfXSPfhWl1u",
        "outputId": "218a10ab-4469-4b48-f7d4-024955f9070d"
      },
      "execution_count": null,
      "outputs": [
        {
          "output_type": "execute_result",
          "data": {
            "text/plain": [
              "1117"
            ]
          },
          "metadata": {},
          "execution_count": 115
        }
      ]
    },
    {
      "cell_type": "code",
      "source": [
        "Y_df.iloc[t0_index][-1]"
      ],
      "metadata": {
        "id": "k7EaXvk5M2-X",
        "colab": {
          "base_uri": "https://localhost:8080/"
        },
        "outputId": "96013f72-aef2-42d7-d2e3-30e67e3646c4"
      },
      "execution_count": null,
      "outputs": [
        {
          "output_type": "execute_result",
          "data": {
            "text/plain": [
              "-1.0369717393017996"
            ]
          },
          "metadata": {},
          "execution_count": 117
        }
      ]
    },
    {
      "cell_type": "code",
      "source": [
        "X_df.iloc[t0_index][-1]"
      ],
      "metadata": {
        "id": "Xf7KssWrR4kH",
        "colab": {
          "base_uri": "https://localhost:8080/"
        },
        "outputId": "83c9776f-207b-47fc-d66f-3e76addf8def"
      },
      "execution_count": null,
      "outputs": [
        {
          "output_type": "execute_result",
          "data": {
            "text/plain": [
              "5.138848289206334"
            ]
          },
          "metadata": {},
          "execution_count": 118
        }
      ]
    },
    {
      "cell_type": "code",
      "source": [
        "lineweight = 1.0"
      ],
      "metadata": {
        "id": "krke5gEMTTwG"
      },
      "execution_count": null,
      "outputs": []
    },
    {
      "cell_type": "code",
      "source": [
        "fig, ax = plt.subplots(figsize=(8,8), sharex=True, sharey=False)\n",
        "\n",
        "\n",
        "sphx = np.linspace(0,A, 100)\n",
        "sphyp = np.sqrt(A**2- sphx**2)\n",
        "sphym = - sphyp\n",
        "ax.plot(sphx, sphyp, 'k', label ='Sphere', lw=lineweight)\n",
        "ax.plot(sphx, sphym, 'k', -sphx, -sphyp, 'k', -sphx, sphyp, 'k', lw = lineweight)\n",
        "\n",
        "\n",
        "ax.plot(X_df.iloc[t0_index], Y_df.iloc[t0_index], color='tab:blue')\n",
        "ax.plot(-X_df.iloc[t0_index], Y_df.iloc[t0_index], color='tab:blue')\n",
        "\n",
        "\n",
        "\n",
        "ax.plot(X_df.iloc[tf_index], Y_df.iloc[tf_index], color='tab:orange')\n",
        "ax.plot(-X_df.iloc[tf_index], Y_df.iloc[tf_index], color='tab:orange')\n",
        "\n",
        "\n",
        "\n",
        "ax.set_aspect('equal', adjustable='box')\n",
        "\n"
      ],
      "metadata": {
        "id": "W-a1rhi1Ofum",
        "colab": {
          "base_uri": "https://localhost:8080/",
          "height": 676
        },
        "outputId": "291cf379-5fb6-4361-cbcc-67da4a96b927"
      },
      "execution_count": null,
      "outputs": [
        {
          "output_type": "display_data",
          "data": {
            "text/plain": [
              "<Figure size 800x800 with 1 Axes>"
            ],
            "image/png": "[encoded data removed]"
          },
          "metadata": {}
        }
      ]
    },
    {
      "cell_type": "code",
      "source": [],
      "metadata": {
        "id": "b5r2Y40K1GWZ"
      },
      "execution_count": null,
      "outputs": []
    },
    {
      "cell_type": "code",
      "source": [
        "distance = abs(Y_df.iloc[t0_index][-1]-Y_df.iloc[tf_index][-1])\n",
        "\n",
        "distance"
      ],
      "metadata": {
        "id": "EO-U3vtEO1hH",
        "colab": {
          "base_uri": "https://localhost:8080/"
        },
        "outputId": "1320156a-74ae-4bc6-fac1-a8f76108f801"
      },
      "execution_count": null,
      "outputs": [
        {
          "output_type": "execute_result",
          "data": {
            "text/plain": [
              "26.053844107785153"
            ]
          },
          "metadata": {},
          "execution_count": 121
        }
      ]
    },
    {
      "cell_type": "markdown",
      "source": [
        "\n",
        "$t$  ||   $z_n$ ||  $V_s(z_n(t))$\n",
        "\n",
        "--\n",
        "\n",
        "\n",
        "Pseudocode:\n",
        "\n",
        "    Fix $t_i$ between $t_0$ and $t_f$:\n",
        "    \n",
        "        Get $z_n(t_i)$\n",
        "\n",
        "            Get $V_s(z_n(t_i))$\n",
        "\n",
        "\n",
        "\n",
        "\n"
      ],
      "metadata": {
        "id": "5qAXP48FUms2"
      }
    },
    {
      "cell_type": "code",
      "source": [
        "zn_array = []\n",
        "L_array = []\n",
        "\n",
        "for t in range(t0_index,tf_index, 1):\n",
        "\n",
        "  zn = Y_df.iloc[t][-1]\n",
        "  #print(r'z_n(t)=', Y_df.iloc[t][-1])\n",
        "\n",
        "  #print(r'Distance from initial (R_0, z_n(t_0))=', abs(Y_df.iloc[t0_index][-1]-Y_df.iloc[t][-1]))\n",
        "\n",
        "  L  = abs(Y_df.iloc[t0_index][-1]-Y_df.iloc[t][-1])\n",
        "\n",
        "\n",
        "  zn_array.append(zn)\n",
        "\n",
        "  L_array.append(L)\n"
      ],
      "metadata": {
        "id": "nB86x9vQUqx-"
      },
      "execution_count": null,
      "outputs": []
    },
    {
      "cell_type": "code",
      "source": [
        "len(L_array)"
      ],
      "metadata": {
        "id": "0MCTcZzzYitq",
        "colab": {
          "base_uri": "https://localhost:8080/"
        },
        "outputId": "21592166-1f72-4227-a1f0-d0002eadb2e0"
      },
      "execution_count": null,
      "outputs": [
        {
          "output_type": "execute_result",
          "data": {
            "text/plain": [
              "981"
            ]
          },
          "metadata": {},
          "execution_count": 123
        }
      ]
    },
    {
      "cell_type": "code",
      "source": [
        "np.savetxt('{}/L_array.txt'.format(filename), L_array, delimiter=',', fmt='%s')"
      ],
      "metadata": {
        "id": "G-LwObGsoQCT"
      },
      "execution_count": null,
      "outputs": []
    },
    {
      "cell_type": "code",
      "source": [
        "time = np.linspace(t0, tf, len(L_array))\n",
        "\n",
        "plt.xlabel('L (cm)')\n",
        "plt.ylabel('Time (s)')\n",
        "\n",
        "n = 3 # plot  every n points\n",
        "plt.scatter(L_array[::n], time[::n])\n",
        "\n"
      ],
      "metadata": {
        "id": "u_Xhs7IFWTQa",
        "colab": {
          "base_uri": "https://localhost:8080/",
          "height": 467
        },
        "outputId": "80f74ff6-6ee0-4dfa-b7b4-36b515c6009d"
      },
      "execution_count": null,
      "outputs": [
        {
          "output_type": "execute_result",
          "data": {
            "text/plain": [
              "<matplotlib.collections.PathCollection at 0x7e3e99cb8fa0>"
            ]
          },
          "metadata": {},
          "execution_count": 125
        },
        {
          "output_type": "display_data",
          "data": {
            "text/plain": [
              "<Figure size 640x480 with 1 Axes>"
            ],
            "image/png": "[encoded data removed]"
          },
          "metadata": {}
        }
      ]
    },
    {
      "cell_type": "code",
      "source": [
        "# print('A=', A,', rhob=', rhob, ', t0=', t0, ', tf=', tf, ', Residence Time: ', residencetime, ', Distance Travelled:', distance)\n",
        "\n",
        "# print('rhos-rhob=', rhosrhob)\n",
        "# print('rhob-rhot=', rhobrhot)"
      ],
      "metadata": {
        "id": "aSzVsdYsXWuj"
      },
      "execution_count": null,
      "outputs": []
    },
    {
      "cell_type": "code",
      "source": [
        "print('A=', A, 't0=', t0, ', tf=', tf, ', Residence Time: ', residencetime)\n",
        "\n",
        "print('rhos-rhob=', rhosrhob)\n",
        "print('rhob-rhot=', rhobrhot)"
      ],
      "metadata": {
        "id": "77oMmOElaQOP",
        "colab": {
          "base_uri": "https://localhost:8080/"
        },
        "outputId": "7b12f9b6-cb0a-4ac8-f03e-0c2f427f63fd"
      },
      "execution_count": null,
      "outputs": [
        {
          "output_type": "stream",
          "name": "stdout",
          "text": [
            "A= 0.641 t0= 6.8500000000000005 , tf= 55.900000000000006 , Residence Time:  49.050000000000004\n",
            "rhos-rhob= 0.03200000000000003\n",
            "rhob-rhot= 0.0030000000000001137\n"
          ]
        }
      ]
    },
    {
      "cell_type": "code",
      "source": [],
      "metadata": {
        "id": "Iv2i3RD08cSV"
      },
      "execution_count": null,
      "outputs": []
    }
  ]
}