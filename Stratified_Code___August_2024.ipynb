{
  "cells": [
    {
      "cell_type": "markdown",
      "metadata": {
        "id": "CV5zlNnboway"
      },
      "source": [
        "# Introduction"
      ]
    },
    {
      "cell_type": "markdown",
      "metadata": {
        "id": "a-5T-314HT_G"
      },
      "source": []
    },
    {
      "cell_type": "markdown",
      "metadata": {
        "id": "_KtKuMjUEewl"
      },
      "source": [
        "Units should be in grams, cm, and seconds."
      ]
    },
    {
      "cell_type": "code",
      "execution_count": null,
      "metadata": {
        "id": "YRByABZztdXv"
      },
      "outputs": [],
      "source": [
        "# from google.colab import drive\n",
        "# drive.mount(\"/content/gdrive\")"
      ]
    },
    {
      "cell_type": "markdown",
      "metadata": {
        "id": "RP_22F7JFnT1"
      },
      "source": [
        "To mount drive: IT MUST BE RUN FIRST without running any cells after it"
      ]
    },
    {
      "cell_type": "markdown",
      "metadata": {
        "id": "f9tapvsLEyJd"
      },
      "source": []
    },
    {
      "cell_type": "code",
      "execution_count": null,
      "metadata": {
        "id": "iudoqBYxI_nP"
      },
      "outputs": [],
      "source": []
    },
    {
      "cell_type": "code",
      "execution_count": null,
      "metadata": {
        "id": "Bw145EHJrBC1"
      },
      "outputs": [],
      "source": [
        "import numpy as np\n",
        "import matplotlib.pyplot as plt\n",
        "import scipy as sp\n",
        "\n",
        "import pandas as pd\n",
        "\n",
        "from os import makedirs,path\n",
        "from errno import EEXIST\n",
        "\n",
        "from datetime import datetime, timezone, date"
      ]
    },
    {
      "cell_type": "code",
      "execution_count": null,
      "metadata": {
        "id": "hYdkQyvSCw4B"
      },
      "outputs": [],
      "source": [
        "def mkdir_p(mypath):\n",
        "    # Creates a directory: same as mkdir or fulltime(path)\n",
        "    try:\n",
        "        makedirs(mypath)\n",
        "    except OSError as exc:\n",
        "        if exc.errno == EEXIST and path.isdir(mypath):\n",
        "            pass\n",
        "        else: raise\n",
        "\n",
        "\n",
        "\n",
        "\n",
        "# Creating directory for a path\n",
        "\n",
        "#filename = 'Figures/VariableSweeps/h={h}/Ni={Ni}/N={N}/rhos={rhos}/rhot={rhot}/rhob={rhob}'.format(h=h, Ni=Ni, N=N, rhos=rhos, rhot=rhot, rhob=rhob) #path for fig save\n",
        "\n",
        "now = datetime.now()\n",
        "\n",
        "\n",
        "datestring = now.strftime('%Y_%m_%d')\n",
        "timestring= now.strftime(\"%H_%M\")\n",
        "\n",
        "\n",
        "\n",
        "\n",
        "fulltime = datetime.today().strftime('%Y-%m/%d/%H_%M')\n",
        "\n",
        "# fulltime = datetime.today().strftime('%m_%d/%H_%M')\n",
        "\n",
        "\n",
        "filename = '/content/gdrive/MyDrive/Output/{fulltime}'.format(fulltime=fulltime) #path for fig save\n",
        "\n",
        "#filename = '/content/gdrive/MyDrive/Output/Rhob_Sweep/{fulltime}'.format(fulltime=fulltime) #path for fig save\n",
        "\n",
        "\n",
        "# filename = '/content/gdrive/MyDrive/Output/dtSweep/{fulltime}'.format(fulltime=fulltime) #path for fig save\n",
        "\n",
        "mkdir_p(filename)"
      ]
    },
    {
      "cell_type": "code",
      "execution_count": null,
      "metadata": {
        "colab": {
          "base_uri": "https://localhost:8080/",
          "height": 35
        },
        "id": "1pPQEzvBoSwx",
        "outputId": "df561280-30c7-4d0f-c4ae-6636166afcb1"
      },
      "outputs": [
        {
          "output_type": "execute_result",
          "data": {
            "text/plain": [
              "'2024-07/11/16_37'"
            ],
            "application/vnd.google.colaboratory.intrinsic+json": {
              "type": "string"
            }
          },
          "metadata": {},
          "execution_count": 5
        }
      ],
      "source": [
        "fulltime"
      ]
    },
    {
      "cell_type": "markdown",
      "metadata": {
        "id": "WHnRdBdp9AU0"
      },
      "source": [
        "#  Variable definitions"
      ]
    },
    {
      "cell_type": "code",
      "execution_count": null,
      "metadata": {
        "id": "_cyzPqIdtDGr"
      },
      "outputs": [],
      "source": [
        "\n",
        "# Defining Numerical Constants\n",
        "\n",
        "dt= 0.05 #time step\n",
        "Tmax = 10 #time to run simulation\n",
        "y_start = -5 # initial flat line y_start cm away from sphere\n",
        "\n",
        "\n",
        "# Ndt = int(Tmax/dt) #number of time steps\n",
        "\n",
        "Ndt = 2000\n",
        "\n",
        "Ni = int(500)   #number of interfacial points close to sphere\n",
        "Nj = int(Ni/2.0)          # number of interfacial points far from the sphere\n",
        "\n",
        "\n",
        "# Determining Model\n",
        "\n",
        "\n",
        "\n",
        "# 3D Integration Constants: h = (xf-xi)/ n\n",
        "\n",
        "a=b=c=0\n",
        "\n",
        "nzeta = 30\n",
        "nrho = 30\n",
        "ntheta = 50\n",
        "\n",
        "\n",
        "epsilon = 1e-6 #radius around singularities in w\n",
        "\n",
        "\n",
        "# # Physical Constants Exp. Data\n",
        "\n",
        "R0 = 5 #xend value, radius of tank, truncation in x-direction\n",
        "\n",
        "# A = 0.635 #radius of sphere (cm)\n",
        "\n",
        "g = 981.0 #gravitational acceleration const in cm/s^2\n",
        "\n",
        "\n",
        "A = 0.641\n",
        "\n",
        "\n",
        "rhos = 1.35\n",
        "\n",
        "rhob = 1.32\n",
        "rhot = 1.3195\n",
        "\n",
        "\n",
        "\n",
        "mu = 4.773326883\n",
        "\n",
        "\n",
        "\n",
        "\n",
        "\n",
        "\n",
        "\n",
        "# Microplastics\n",
        "\n",
        "\n",
        "# A = 0.641\n",
        "# rhos = 1.36712\n",
        "\n",
        "# rhot = 0.997\n",
        "# rhob = 1.3463\n",
        "\n",
        "# mu_top = 0.09107\n",
        "# mu_bottom = 0.15673\n",
        "\n",
        "# #mu = 0.5*(mu_top+mu_bottom)\n",
        "\n",
        "# mu= 5.03263372\n",
        "\n",
        "\n",
        "\n",
        "\n",
        "# ##### Stokes Regime Experiment #####\n",
        "# rhos = 1.3671 #density of sphere g/cc\n",
        "\n",
        "# rhot = 1.34812   #top fluid density g/cc\n",
        "\n",
        "# rhob = 1.356 #1.354 #bottom fluid density g/cc\n",
        "\n",
        "# mu = 6.55 # fluid viscosity Poise - millipascal second\n",
        "\n",
        "\n",
        "##### Entrainment Regime Experiment #####\n",
        "\n",
        "# rhos = 1.36712 #density of sphere g/cc\n",
        "# rhot = 1.34695  #top fluid density g/cc\n",
        "# rhob= 1.36178 #bottom fluid density g/cc\n",
        "# mu= 4 # fluid viscosity Poise - millipascal second\n",
        "\n",
        "#########################\n",
        "\n",
        "\n",
        "# =============================================================================\n",
        "#\n",
        "# ######################### Stokes Regimes #########################\n",
        "#\n",
        "# =============================================================================\n",
        "\n",
        "\n",
        "\n",
        "# =============================================================================\n",
        "# Exp 4: 05-20-2016\n",
        "# Sphere name: 8 --- Salt = NaCL\n",
        "# Sphere recovers, use a really small dt\n",
        "# =============================================================================\n",
        "\n",
        "\n",
        "# A = 0.641\n",
        "# rhos = 1.368\n",
        "\n",
        "# rhob = 1.35\n",
        "\n",
        "# mutop = 5.03263372\n",
        "# mubottom = 5.276099152\n",
        "\n",
        "\n",
        "\n",
        "# mutop = 4.773326883\n",
        "# mubottom = 5.000284943\n",
        "\n",
        "\n",
        "# # mu = (mutop+mubottom)/2.0\n",
        "\n",
        "# mu = mutop\n",
        "# # expno = 1\n",
        "\n",
        "\n",
        "\n",
        "\n",
        "# =============================================================================\n",
        "# Exp 8: 05-20-2016\n",
        "# Sphere name: 8 --- Salt = NaCL\n",
        "# Sphere recovers, rhoregion = 0.21252153934520693\n",
        "# =============================================================================\n",
        "\n",
        "\n",
        "# A = 0.641*0.1\n",
        "# rhos = 1.36712\n",
        "\n",
        "# # rhos = 1.1\n",
        "\n",
        "\n",
        "\n",
        "# rhot = 1.34629\n",
        "# rhob=1.3463\n",
        "\n",
        "# mutop = 5.03263372\n",
        "# mubottom =5.276099152\n",
        "\n",
        "# #mu = (mutop+mubottom)*0.5149\n",
        "\n",
        "# mu = mutop\n",
        "\n",
        "\n",
        "# =============================================================================\n",
        "#\n",
        "# ######################### Entrainment Regimes #########################\n",
        "#\n",
        "# =============================================================================\n",
        "\n",
        "\n",
        "# =============================================================================\n",
        "# Exp 1: 02-07-2013\n",
        "# Sphere name: 8 --- Salt = NaCL\n",
        "#\n",
        "# =============================================================================\n",
        "\n",
        "\n",
        "# A = 0.641\n",
        "# rhos = 1.36712\n",
        "\n",
        "# rhot = 1.34077\n",
        "# rhob= 1.36245712\n",
        "\n",
        "# mutop = 6.944015664\n",
        "# mubottom =7.990688183\n",
        "\n",
        "# mu = (mutop+mubottom)*0.5\n",
        "\n",
        "# mu = mutop\n",
        "\n",
        "\n",
        "# =============================================================================\n",
        "# Exp 1: 04-09-2013\n",
        "# Sphere name: 8 --- Salt = NaCL\n",
        "#\n",
        "# =============================================================================\n",
        "\n",
        "\n",
        "# A = 0.641\n",
        "# rhos = 1.36712\n",
        "\n",
        "# rhot =1.34695\n",
        "# rhob= 1.36178\n",
        "\n",
        "# mutop = 3.611845768\n",
        "# mubottom =3.406853812\n",
        "\n",
        "# mu = (mutop+mubottom)*0.5\n",
        "\n",
        "# mu = mutop\n",
        "\n",
        "\n",
        "# Numbers\n",
        "\n",
        "frtd = 4.0/3.0\n",
        "hf = 0.5\n",
        "thd = 1/3.0\n",
        "sxth = 1/6.0\n",
        "twonths = 2.0/9.0\n",
        "svnhf = 7.0/ 2.0\n",
        "\n",
        "oneoversixmuA = 1.0/ (6.0*np.pi*mu*A)\n",
        "govereightpimu = g / (8.0*np.pi*mu)\n",
        "rhoregion = (rhob-rhot)/(rhos-rhob)\n",
        "\n",
        "\n",
        "\n",
        "K = (1-2.10444*(A / R0)+2.08877*(A/R0)**3)\n",
        "\n",
        "# plotting parameters\n",
        "\n",
        "Runtime = 0\n",
        "lineweight = 0.85\n",
        "\n",
        "\n",
        "V_TermTop =  (2*A**2 *g)/(9*mu)*(rhot-rhos)\n",
        "V_TermBttm = (2*A**2 *g)/(9*mu)*(rhob-rhos)\n",
        "\n"
      ]
    },
    {
      "cell_type": "code",
      "execution_count": null,
      "metadata": {
        "colab": {
          "base_uri": "https://localhost:8080/"
        },
        "id": "feIM_tm15vy_",
        "outputId": "38bf404c-c4b3-4599-d0c3-3c437c3f3391"
      },
      "outputs": [
        {
          "output_type": "execute_result",
          "data": {
            "text/plain": [
              "0.000500000000000167"
            ]
          },
          "metadata": {},
          "execution_count": 7
        }
      ],
      "source": [
        "drhob = rhob - rhot\n",
        "\n",
        "drhob"
      ]
    },
    {
      "cell_type": "code",
      "execution_count": null,
      "metadata": {
        "colab": {
          "base_uri": "https://localhost:8080/"
        },
        "id": "QKFEjfuC5ror",
        "outputId": "faf0b92b-27ca-4d0f-9c93-1e5cc7a95bf9"
      },
      "outputs": [
        {
          "output_type": "execute_result",
          "data": {
            "text/plain": [
              "0.030000000000000027"
            ]
          },
          "metadata": {},
          "execution_count": 8
        }
      ],
      "source": [
        "drhos = rhos-rhob\n",
        "\n",
        "drhos"
      ]
    },
    {
      "cell_type": "code",
      "execution_count": null,
      "metadata": {
        "colab": {
          "base_uri": "https://localhost:8080/"
        },
        "id": "44jEdpv_2g8R",
        "outputId": "51f3ee98-33e4-428e-e1bc-29b2db06d808"
      },
      "outputs": [
        {
          "output_type": "stream",
          "name": "stdout",
          "text": [
            "Re= 0.10375805862569747\n"
          ]
        }
      ],
      "source": [
        "U = -V_TermTop\n",
        "\n",
        "Re = (rhos*U*A)/(mu)\n",
        "\n",
        "print('Re=', Re)\n"
      ]
    },
    {
      "cell_type": "code",
      "execution_count": null,
      "metadata": {
        "colab": {
          "base_uri": "https://localhost:8080/"
        },
        "id": "XnGrkNpHdZOI",
        "outputId": "f13c7ccf-2b98-4bff-dda7-490071418026"
      },
      "outputs": [
        {
          "output_type": "execute_result",
          "data": {
            "text/plain": [
              "-0.5723361998797385"
            ]
          },
          "metadata": {},
          "execution_count": 10
        }
      ],
      "source": [
        "V_TermTop"
      ]
    },
    {
      "cell_type": "code",
      "execution_count": null,
      "metadata": {
        "id": "ZEnGl92iKFmx"
      },
      "outputs": [],
      "source": []
    },
    {
      "cell_type": "code",
      "execution_count": null,
      "metadata": {
        "colab": {
          "base_uri": "https://localhost:8080/"
        },
        "id": "aVkCMCZJJ-Fl",
        "outputId": "9e50b6ab-384b-4bfd-85f1-a42d7cfdecb5"
      },
      "outputs": [
        {
          "output_type": "execute_result",
          "data": {
            "text/plain": [
              "1.1114187022522934"
            ]
          },
          "metadata": {},
          "execution_count": 11
        }
      ],
      "source": [
        "a = 0.01\n",
        "\n",
        "\n",
        "\n",
        "1.0/ (6.0*np.pi*mu*a)"
      ]
    },
    {
      "cell_type": "markdown",
      "metadata": {
        "id": "FxZscuSrfnHN"
      },
      "source": [
        "# Sphere Velocity and Forces"
      ]
    },
    {
      "cell_type": "code",
      "execution_count": null,
      "metadata": {
        "id": "cF_mtArBvgEv"
      },
      "outputs": [],
      "source": [
        "def sphere_velocities(yend, Astar, y0):\n",
        "\n",
        "\n",
        "\n",
        "\n",
        "#Volumes of sphere by region\n",
        "\n",
        "  def Vol_s(A): #volume of a sphere of radius A\n",
        "      return frtd*np.pi*A**3 # Absolute sphere volume\n",
        "\n",
        "  def Vol_s_top_ent(A): #portion of the sphere in the top layer\n",
        "      return 2*np.pi*(thd*A**3 - hf*(A**2)*yend+sxth*(yend**3)) #volume of sphere in top in entrainment\n",
        "\n",
        "  def Vol_s_bttm_ent(A): #portion of sphere in bottom layer\n",
        "      return 2*np.pi*(hf*(A**2)*yend-sxth*(yend**3)+thd*(A**3)) #volume of sphere in bottom in entrainment\n",
        "\n",
        "  # Gravity Force\n",
        "\n",
        "  def GravityForce(yend, A):\n",
        "      return rhos*Vol_s(A)*g\n",
        "\n",
        "\n",
        "  # Buoyancy Force from top and bottom portions of sphere\n",
        "\n",
        "  def B_top_ent(A):\n",
        "      return g*rhot*Vol_s_top_ent(A) # buoyant force from top layer displacement\n",
        "  def B_bttm_ent(A):\n",
        "      return g*rhob*Vol_s_bttm_ent(A) #buoyant force from bottom layer displacement\n",
        "\n",
        "\n",
        "  def B_int(A):\n",
        "      return float(B_top_ent(A)+B_bttm_ent(A)) #when -A < yend < A\n",
        "\n",
        "  # Defining Buoancy Function\n",
        "\n",
        "  def Buoyancy(yend, A):\n",
        "\n",
        "      if -A <= yend <= A:\n",
        "          return B_int(A)\n",
        "      if yend < -A:\n",
        "          return g*rhot*Vol_s(A)\n",
        "      else:\n",
        "          return g*rhob*Vol_s(A)\n",
        "\n",
        "\n",
        "\n",
        "\n",
        "\n",
        "  def S_int(yend, Astar):\n",
        "\n",
        "      if yend < -A:\n",
        "          #print('A*=', Astar)\n",
        "\n",
        "          S1= g* (rhot-rhob)*(-1.0/(6.0*Astar**3))*( A*(A**2-3*Astar**2)*np.pi*(-y0**3+3*Astar**2*(y0-yend)+yend**3))\n",
        "\n",
        "          #print('S1=', S1)\n",
        "          return S1\n",
        "\n",
        "      elif -A <= yend <= A:\n",
        "\n",
        "          S2= g*(rhot-rhob)*(np.pi*(9*A*Astar**4*y0-3*A*Astar**2*y0**3+A**3*(4*Astar**3-3*Astar**2*y0+y0**3)+3*A*(A-Astar)*Astar**2*(A+3*Astar)*yend-(A-Astar)**2 *(A+2*Astar)*yend**3))/ (6.0*Astar**3)\n",
        "\n",
        "          #print('S2=', S2)\n",
        "\n",
        "          return S2\n",
        "\n",
        "      elif A < yend <= Astar:\n",
        "\n",
        "\n",
        "          S3= g*(rhot-rhob)*(A *np.pi *(3.0*Astar**2 *(-y0**3 + 3.0 *Astar**2 *(y0 - yend) + yend**3) + A**2 *(8.0 *Astar**3 + y0**3 - yend**3 + 3.0 *Astar**2 *(-y0 + yend))))/(6.0* Astar**3)\n",
        "\n",
        "          #print('S3=', S3)\n",
        "\n",
        "          return S3\n",
        "\n",
        "      elif yend >= Astar:\n",
        "\n",
        "\n",
        "          S4= g*(rhot-rhob)*((A*np.pi/6.0)*(\n",
        "\n",
        "          -(3.0*(Astar-y0)**2 *(2*Astar+y0))/(Astar) + A**2 *(   10 - (3.0*Astar)/ (np.sqrt(A**2-2*A*Astar+2*Astar**2)) -(3.0*y0)/Astar  + (y0**3 / Astar**3) + (3.0*yend)/(np.sqrt( (A-Astar)**2 + yend**2)))\n",
        "\n",
        "              + 9*(A-Astar)**2 *(np.arcsinh(Astar / abs(A-Astar)) - np.arcsinh(yend/ abs(A-Astar)))))\n",
        "\n",
        "          #print('S4=', S4)\n",
        "\n",
        "          return S4\n",
        "\n",
        "  def Velocity(yend, Astar):\n",
        "\n",
        "    if yend < -A:\n",
        "        #print('V Term Top')\n",
        "\n",
        "        return V_TermTop +oneoversixmuA * S_int(yend, Astar) #terminal velocity of sphere in top\n",
        "\n",
        "    elif -A <= yend  <= A:\n",
        "\n",
        "        V2 =  oneoversixmuA*(S_int(yend, Astar) + Buoyancy(yend,A)-GravityForce(yend,A)) #velocity in entrainment layer\n",
        "\n",
        "        #print(V2)\n",
        "\n",
        "        return V2\n",
        "\n",
        "    elif yend > A:\n",
        "\n",
        "        return V_TermBttm  +oneoversixmuA*S_int(yend, Astar)  #terminal velocity of sphere in bottom\n",
        "\n",
        "\n",
        "\n",
        "\n",
        "\n",
        "\n",
        "  return V_TermTop, V_TermBttm, Velocity(yend, Astar), S_int(yend, Astar)"
      ]
    },
    {
      "cell_type": "markdown",
      "metadata": {
        "id": "S9EUp7Qy1-Zl"
      },
      "source": [
        "# Stokes Flow"
      ]
    },
    {
      "cell_type": "code",
      "execution_count": null,
      "metadata": {
        "id": "9oK4G32cynlT"
      },
      "outputs": [],
      "source": [
        "def stokesflow(yend, Astar, y0, r, X, Y):\n",
        "\n",
        "  #r = np.zeros( (Ndt, Ni+Nj))\n",
        "  # Stokes flow\n",
        "  #r[i, :] = np.sqrt(X[i, :]**2 + Y[i, :]**2)\n",
        "  V_TermTop, V_TermBttm, sphvel, S_int_array = sphere_velocities(yend, Astar, y0)\n",
        "\n",
        "\n",
        "  def ux(yend):#ur\n",
        "      V_TermTop, V_TermBttm, sphvel, S_int_array = sphere_velocities(yend, Astar, y0)\n",
        "      #r[i, :] = np.sqrt(X[i, :]**2 + Y[i, :]**2)\n",
        "\n",
        "      V = -sphvel\n",
        "      #V=1\n",
        "      # if r==0:\n",
        "      #   return 0\n",
        "\n",
        "      return V*(((-3*A*X*Y)/(4*r**3))+ ((3*(A**3)*X*Y)/(4*r**5)))   #R or x-comp of stokes flow\n",
        "\n",
        "\n",
        "  def uy(yend): #uz\n",
        "\n",
        "      #r[i, :] = np.sqrt(X[i, :]**2 + Y[i, :]**2)\n",
        "      V_TermTop, V_TermBttm, sphvel, S_int_array = sphere_velocities(yend, Astar, y0)\n",
        "      V = -sphvel\n",
        "      #V=1\n",
        "\n",
        "      # if r==0:\n",
        "      #   return 0\n",
        "\n",
        "      return V*(1-3*A/(4*r)-3*A*Y**2/(4*r**3)-A**3/(4*r**3)+3*Y**2*A**3/(4*r**5))  #Z or y-comp of stokes flow\n",
        "  #print(ux(yend), uy(yend))\n",
        "  return ux(yend), uy(yend)"
      ]
    },
    {
      "cell_type": "markdown",
      "metadata": {
        "id": "FnBBE6shZEGA"
      },
      "source": [
        "# Full Field"
      ]
    },
    {
      "cell_type": "code",
      "execution_count": null,
      "metadata": {
        "id": "R63diH7E3CiP"
      },
      "outputs": [],
      "source": [
        "def Oseen_def(X,Y, rho, zeta, theta):\n",
        "\n",
        "  #print('X=', X)\n",
        "\n",
        "\n",
        "  def rr(X, Y, rho, zeta, theta):\n",
        "\n",
        "      rr = np.sqrt(X**2 + rho**2 - 2*rho*X*np.cos(theta)+(Y-zeta)**2)\n",
        "\n",
        "      return rr\n",
        "\n",
        "  def rstar(X, Y, rho, zeta, theta):\n",
        "\n",
        "      rstar = np.sqrt(sigma(rho,zeta)**2 *(zeta**2+rho**2) + X**2 - 2*sigma(rho,zeta)*(X*rho*np.cos(theta)-Y*zeta) + Y**2)\n",
        "\n",
        "      return rstar\n",
        "\n",
        "  def sigma(rho, zeta):\n",
        "\n",
        "      if rho**2 + zeta**2 <=0:\n",
        "          sigma = 0\n",
        "      else:\n",
        "          sigma =  (A**2 / (rho**2+zeta**2))\n",
        "\n",
        "      return sigma\n",
        "\n",
        "  def modx(X, Y):\n",
        "\n",
        "      modx = np.sqrt(X**2 + Y**2)\n",
        "\n",
        "      return modx\n",
        "\n",
        "  def modystar(rho,zeta):\n",
        "\n",
        "      if rho**2+zeta**2 == 0:\n",
        "\n",
        "          modystar = 0\n",
        "\n",
        "      else:\n",
        "\n",
        "          modystar = A**2 / np.sqrt(rho**2+zeta**2)\n",
        "\n",
        "      return modystar\n",
        "\n",
        "  def dPhi3dx1(rho, zeta, theta, X, Y):\n",
        "\n",
        "    dPhi3dx1 = ((A**2 - X**2 - Y**2)*(-A**2 + zeta**2 + rho**2*np.cos(theta)**2)* ((-3*A*(Y - (A**2*zeta)/(zeta**2 + rho**2*np.cos(theta)**2))* (X - (A**2*rho*np.cos(theta))/(zeta**2 + rho**2*np.cos(theta)**2)))/((Y - (A**2*zeta)/(zeta**2 + rho**2*np.cos(theta)**2))**2 +  (X - (A**2*rho*np.cos(theta))/(zeta**2 + rho**2*np.cos(theta)**2))**2)**2.5 - (3*zeta*(X - (A**2*rho*np.cos(theta))/(zeta**2 + rho**2*np.cos(theta)**2)))/(A*((Y - (A**2*zeta)/(zeta**2 + rho**2*np.cos(theta)**2))**2 +  (X - (A**2*rho*np.cos(theta))/(zeta**2 + rho**2*np.cos(theta)**2))**2)**1.5) + (2*zeta*((3*A**2*zeta*(Y - (A**2*zeta)/(zeta**2 + rho**2*np.cos(theta)**2))* (X - (A**2*rho*np.cos(theta))/(zeta**2 + rho**2*np.cos(theta)**2)))/ ((zeta**2 + rho**2*np.cos(theta)**2)* ((Y - (A**2*zeta)/(zeta**2 + rho**2*np.cos(theta)**2))**2 + (X - (A**2*rho*np.cos(theta))/(zeta**2 + rho**2*np.cos(theta)**2))**2)**2.5) +  (3*A**2*rho*np.cos(theta)*(X - (A**2*rho*np.cos(theta))/(zeta**2 + rho**2*np.cos(theta)**2))**2)/ ((zeta**2 + rho**2*np.cos(theta)**2)* ((Y - (A**2*zeta)/(zeta**2 + rho**2*np.cos(theta)**2))**2 +  (X - (A**2*rho*np.cos(theta))/(zeta**2 + rho**2*np.cos(theta)**2))**2)**2.5) - (A**2*rho*np.cos(theta))/  ((zeta**2 + rho**2*np.cos(theta)**2)* ((Y - (A**2*zeta)/(zeta**2 + rho**2*np.cos(theta)**2))**2 + (X - (A**2*rho*np.cos(theta))/(zeta**2 + rho**2*np.cos(theta)**2))**2)**1.5)))/A+ (3*A*((A**2*Y*zeta)/(zeta**2 + rho**2*np.cos(theta)**2) +  (A**2*X*rho*np.cos(theta))/(zeta**2 + rho**2*np.cos(theta)**2) +  np.sqrt(X**2 + Y**2)*np.sqrt((A**4*zeta**2)/(zeta**2 + rho**2*np.cos(theta)**2)**2 + (A**4*rho**2*np.cos(theta)**2)/(zeta**2 + rho**2*np.cos(theta)**2)**2))* (((np.sqrt((A**4*zeta**2)/(zeta**2 + rho**2*np.cos(theta)**2)**2 +  (A**4*rho**2*np.cos(theta)**2)/(zeta**2 + rho**2*np.cos(theta)**2)**2)*(Y - (A**2*zeta)/(zeta**2 + rho**2*np.cos(theta)**2))* (X - (A**2*rho*np.cos(theta))/(zeta**2 + rho**2*np.cos(theta)**2)))/ ((Y - (A**2*zeta)/(zeta**2 + rho**2*np.cos(theta)**2))**2 + (X - (A**2*rho*np.cos(theta))/(zeta**2 + rho**2*np.cos(theta)**2))**2)**1.5 + (A**2*zeta*(X - (A**2*rho*np.cos(theta))/(zeta**2 + rho**2*np.cos(theta)**2)))/ ((zeta**2 + rho**2*np.cos(theta)**2)* np.sqrt((A**4*zeta**2)/(zeta**2 + rho**2*np.cos(theta)**2)**2 + (A**4*rho**2*np.cos(theta)**2)/(zeta**2 + rho**2*np.cos(theta)**2)**2)* np.sqrt((Y - (A**2*zeta)/(zeta**2 + rho**2*np.cos(theta)**2))**2 + (X - (A**2*rho*np.cos(theta))/(zeta**2 + rho**2*np.cos(theta)**2))**2)))/ ((A**2*Y*zeta)/(zeta**2 + rho**2*np.cos(theta)**2) + (A**2*X*rho*np.cos(theta))/(zeta**2 + rho**2*np.cos(theta)**2) + np.sqrt(X**2 + Y**2)*np.sqrt((A**4*zeta**2)/(zeta**2 + rho**2*np.cos(theta)**2)**2 + (A**4*rho**2*np.cos(theta)**2)/(zeta**2 + rho**2*np.cos(theta)**2)**2)) - ((Y + (A**2*np.sqrt(X**2 + Y**2)*zeta)/((zeta**2 + rho**2*np.cos(theta)**2)*np.sqrt((A**4*zeta**2)/(zeta**2 + rho**2*np.cos(theta)**2)**2 + (A**4*rho**2*np.cos(theta)**2)/(zeta**2 + rho**2*np.cos(theta)**2)**2)))* ((A**2*rho*np.cos(theta))/(zeta**2 + rho**2*np.cos(theta)**2) +  (np.sqrt((A**4*zeta**2)/(zeta**2 + rho**2*np.cos(theta)**2)**2 +  (A**4*rho**2*np.cos(theta)**2)/(zeta**2 + rho**2*np.cos(theta)**2)**2)*(X - (A**2*rho*np.cos(theta))/(zeta**2 + rho**2*np.cos(theta)**2)))/np.sqrt((Y - (A**2*zeta)/(zeta**2 + rho**2*np.cos(theta)**2))**2 +  (X - (A**2*rho*np.cos(theta))/(zeta**2 + rho**2*np.cos(theta)**2))**2)))/ ((A**2*Y*zeta)/(zeta**2 + rho**2*np.cos(theta)**2) + (A**2*X*rho*np.cos(theta))/(zeta**2 + rho**2*np.cos(theta)**2) +  np.sqrt(X**2 + Y**2)* np.sqrt((A**4*zeta**2)/(zeta**2 + rho**2*np.cos(theta)**2)**2 +  (A**4*rho**2*np.cos(theta)**2)/(zeta**2 + rho**2*np.cos(theta)**2)**2))**2 -  (((A**2*rho*np.cos(theta))/(zeta**2 + rho**2*np.cos(theta)**2) + (X*np.sqrt((A**4*zeta**2)/(zeta**2 + rho**2*np.cos(theta)**2)**2 + (A**4*rho**2*np.cos(theta)**2)/(zeta**2 + rho**2*np.cos(theta)**2)**2))/np.sqrt(X**2 + Y**2))*(Y - (2*A**2*zeta)/(zeta**2 + rho**2*np.cos(theta)**2) - (np.sqrt((A**4*zeta**2)/(zeta**2 + rho**2*np.cos(theta)**2)**2 + (A**4*rho**2*np.cos(theta)**2)/(zeta**2 + rho**2*np.cos(theta)**2)**2)*(Y - (A**2*zeta)/(zeta**2 + rho**2*np.cos(theta)**2)))/np.sqrt((Y - (A**2*zeta)/(zeta**2 + rho**2*np.cos(theta)**2))**2 + (X - (A**2*rho*np.cos(theta))/(zeta**2 + rho**2*np.cos(theta)**2))**2) + (A**2*zeta*np.sqrt((Y - (A**2*zeta)/(zeta**2 + rho**2*np.cos(theta)**2))**2 +  (X - (A**2*rho*np.cos(theta))/(zeta**2 + rho**2*np.cos(theta)**2))**2))/((zeta**2 + rho**2*np.cos(theta)**2)* np.sqrt((A**4*zeta**2)/(zeta**2 + rho**2*np.cos(theta)**2)**2 +  (A**4*rho**2*np.cos(theta)**2)/(zeta**2 + rho**2*np.cos(theta)**2)**2))))/((A**2*Y*zeta)/(zeta**2 + rho**2*np.cos(theta)**2) + (A**2*X*rho*np.cos(theta))/(zeta**2 + rho**2*np.cos(theta)**2) +  np.sqrt(X**2 + Y**2)*np.sqrt((A**4*zeta**2)/(zeta**2 + rho**2*np.cos(theta)**2)**2 +  (A**4*rho**2*np.cos(theta)**2)/(zeta**2 + rho**2*np.cos(theta)**2)**2))**2 + (2*(Y + (A**2*np.sqrt(X**2 + Y**2)*zeta)/ ((zeta**2 + rho**2*np.cos(theta)**2)*np.sqrt((A**4*zeta**2)/(zeta**2 + rho**2*np.cos(theta)**2)**2 +  (A**4*rho**2*np.cos(theta)**2)/(zeta**2 + rho**2*np.cos(theta)**2)**2)))* ((A**2*rho*np.cos(theta))/(zeta**2 + rho**2*np.cos(theta)**2) + (X*np.sqrt((A**4*zeta**2)/(zeta**2 + rho**2*np.cos(theta)**2)**2 + (A**4*rho**2*np.cos(theta)**2)/(zeta**2 + rho**2*np.cos(theta)**2)**2))/np.sqrt(X**2 + Y**2))*(-((A**4*zeta**2)/(zeta**2 + rho**2*np.cos(theta)**2)**2) - (A**4*rho**2*np.cos(theta)**2)/(zeta**2 + rho**2*np.cos(theta)**2)**2 + (A**2*Y*zeta)/(zeta**2 + rho**2*np.cos(theta)**2) + (A**2*X*rho*np.cos(theta))/(zeta**2 + rho**2*np.cos(theta)**2) + np.sqrt((A**4*zeta**2)/(zeta**2 + rho**2*np.cos(theta)**2)**2 +  (A**4*rho**2*np.cos(theta)**2)/(zeta**2 + rho**2*np.cos(theta)**2)**2)*np.sqrt((Y - (A**2*zeta)/(zeta**2 + rho**2*np.cos(theta)**2))**2 + (X - (A**2*rho*np.cos(theta))/(zeta**2 + rho**2*np.cos(theta)**2))**2)))/ ((A**2*Y*zeta)/(zeta**2 + rho**2*np.cos(theta)**2) + (A**2*X*rho*np.cos(theta))/(zeta**2 + rho**2*np.cos(theta)**2) +  np.sqrt(X**2 + Y**2)*np.sqrt((A**4*zeta**2)/(zeta**2 + rho**2*np.cos(theta)**2)**2 + (A**4*rho**2*np.cos(theta)**2)/(zeta**2 + rho**2*np.cos(theta)**2)**2))**3 - (A**2*X*zeta*(-((A**4*zeta**2)/(zeta**2 + rho**2*np.cos(theta)**2)**2) -  (A**4*rho**2*np.cos(theta)**2)/(zeta**2 + rho**2*np.cos(theta)**2)**2 + (A**2*Y*zeta)/(zeta**2 + rho**2*np.cos(theta)**2) + (A**2*X*rho*np.cos(theta))/(zeta**2 + rho**2*np.cos(theta)**2) + np.sqrt((A**4*zeta**2)/(zeta**2 + rho**2*np.cos(theta)**2)**2 +  (A**4*rho**2*np.cos(theta)**2)/(zeta**2 + rho**2*np.cos(theta)**2)**2)* np.sqrt((Y - (A**2*zeta)/(zeta**2 + rho**2*np.cos(theta)**2))**2 + (X - (A**2*rho*np.cos(theta))/(zeta**2 + rho**2*np.cos(theta)**2))**2)))/(np.sqrt(X**2 + Y**2)*(zeta**2 + rho**2*np.cos(theta)**2)*np.sqrt((A**4*zeta**2)/(zeta**2 + rho**2*np.cos(theta)**2)**2 + (A**4*rho**2*np.cos(theta)**2)/(zeta**2 + rho**2*np.cos(theta)**2)**2)*((A**2*Y*zeta)/(zeta**2 + rho**2*np.cos(theta)**2) + (A**2*X*rho*np.cos(theta))/(zeta**2 + rho**2*np.cos(theta)**2) + np.sqrt(X**2 + Y**2)*np.sqrt((A**4*zeta**2)/(zeta**2 + rho**2*np.cos(theta)**2)**2 + (A**4*rho**2*np.cos(theta)**2)/(zeta**2 + rho**2*np.cos(theta)**2)**2))**2)))/(np.sqrt((A**4*zeta**2)/(zeta**2 + rho**2*np.cos(theta)**2)**2 + (A**4*rho**2*np.cos(theta)**2)/(zeta**2 + rho**2*np.cos(theta)**2)**2)* (-((A**4*zeta**2)/(zeta**2 + rho**2*np.cos(theta)**2)**2) -  (A**4*rho**2*np.cos(theta)**2)/(zeta**2 + rho**2*np.cos(theta)**2)**2 + (A**2*Y*zeta)/(zeta**2 + rho**2*np.cos(theta)**2) + (A**2*X*rho*np.cos(theta))/(zeta**2 + rho**2*np.cos(theta)**2) + np.sqrt((A**4*zeta**2)/(zeta**2 + rho**2*np.cos(theta)**2)**2 + (A**4*rho**2*np.cos(theta)**2)/(zeta**2 + rho**2*np.cos(theta)**2)**2)* np.sqrt((Y - (A**2*zeta)/(zeta**2 + rho**2*np.cos(theta)**2))**2 + (X - (A**2*rho*np.cos(theta))/(zeta**2 + rho**2*np.cos(theta)**2))**2))) - (3*A*((A**2*Y*zeta)/(zeta**2 + rho**2*np.cos(theta)**2) +  (A**2*X*rho*np.cos(theta))/(zeta**2 + rho**2*np.cos(theta)**2) + np.sqrt(X**2 + Y**2)*np.sqrt((A**4*zeta**2)/(zeta**2 + rho**2*np.cos(theta)**2)**2 + (A**4*rho**2*np.cos(theta)**2)/(zeta**2 + rho**2*np.cos(theta)**2)**2))*((A**2*rho*np.cos(theta))/(zeta**2 + rho**2*np.cos(theta)**2) + (np.sqrt((A**4*zeta**2)/(zeta**2 + rho**2*np.cos(theta)**2)**2 + (A**4*rho**2*np.cos(theta)**2)/(zeta**2 + rho**2*np.cos(theta)**2)**2)*(X - (A**2*rho*np.cos(theta))/(zeta**2 + rho**2*np.cos(theta)**2)))/np.sqrt((Y - (A**2*zeta)/(zeta**2 + rho**2*np.cos(theta)**2))**2 + (X - (A**2*rho*np.cos(theta))/(zeta**2 + rho**2*np.cos(theta)**2))**2))* ((Y - (2*A**2*zeta)/(zeta**2 + rho**2*np.cos(theta)**2) - (np.sqrt((A**4*zeta**2)/(zeta**2 + rho**2*np.cos(theta)**2)**2 + (A**4*rho**2*np.cos(theta)**2)/(zeta**2 + rho**2*np.cos(theta)**2)**2)* (Y - (A**2*zeta)/(zeta**2 + rho**2*np.cos(theta)**2)))/ np.sqrt((Y - (A**2*zeta)/(zeta**2 + rho**2*np.cos(theta)**2))**2 +  (X - (A**2*rho*np.cos(theta))/(zeta**2 + rho**2*np.cos(theta)**2))**2) +  (A**2*zeta*np.sqrt((Y - (A**2*zeta)/(zeta**2 + rho**2*np.cos(theta)**2))**2 +  (X - (A**2*rho*np.cos(theta))/(zeta**2 + rho**2*np.cos(theta)**2))**2))/ ((zeta**2 + rho**2*np.cos(theta)**2)* np.sqrt((A**4*zeta**2)/(zeta**2 + rho**2*np.cos(theta)**2)**2 +  (A**4*rho**2*np.cos(theta)**2)/(zeta**2 + rho**2*np.cos(theta)**2)**2)))/ ((A**2*Y*zeta)/(zeta**2 + rho**2*np.cos(theta)**2) + (A**2*X*rho*np.cos(theta))/(zeta**2 + rho**2*np.cos(theta)**2) +  np.sqrt(X**2 + Y**2)*np.sqrt((A**4*zeta**2)/(zeta**2 + rho**2*np.cos(theta)**2)**2 + (A**4*rho**2*np.cos(theta)**2)/(zeta**2 + rho**2*np.cos(theta)**2)**2)) - ((Y + (A**2*np.sqrt(X**2 + Y**2)*zeta)/((zeta**2 + rho**2*np.cos(theta)**2)* np.sqrt((A**4*zeta**2)/(zeta**2 + rho**2*np.cos(theta)**2)**2 + (A**4*rho**2*np.cos(theta)**2)/(zeta**2 + rho**2*np.cos(theta)**2)**2)))*(-((A**4*zeta**2)/(zeta**2 + rho**2*np.cos(theta)**2)**2) - (A**4*rho**2*np.cos(theta)**2)/(zeta**2 + rho**2*np.cos(theta)**2)**2 +  (A**2*Y*zeta)/(zeta**2 + rho**2*np.cos(theta)**2) + (A**2*X*rho*np.cos(theta))/(zeta**2 + rho**2*np.cos(theta)**2) +  np.sqrt((A**4*zeta**2)/(zeta**2 + rho**2*np.cos(theta)**2)**2 +  (A**4*rho**2*np.cos(theta)**2)/(zeta**2 + rho**2*np.cos(theta)**2)**2)*np.sqrt((Y - (A**2*zeta)/(zeta**2 + rho**2*np.cos(theta)**2))**2 + (X - (A**2*rho*np.cos(theta))/(zeta**2 + rho**2*np.cos(theta)**2))**2)))/((A**2*Y*zeta)/(zeta**2 + rho**2*np.cos(theta)**2) + (A**2*X*rho*np.cos(theta))/(zeta**2 + rho**2*np.cos(theta)**2) +  np.sqrt(X**2 + Y**2)* np.sqrt((A**4*zeta**2)/(zeta**2 + rho**2*np.cos(theta)**2)**2 + (A**4*rho**2*np.cos(theta)**2)/(zeta**2 + rho**2*np.cos(theta)**2)**2))**2))/(np.sqrt((A**4*zeta**2)/(zeta**2 + rho**2*np.cos(theta)**2)**2 +  (A**4*rho**2*np.cos(theta)**2)/(zeta**2 + rho**2*np.cos(theta)**2)**2)*(-((A**4*zeta**2)/(zeta**2 + rho**2*np.cos(theta)**2)**2) - (A**4*rho**2*np.cos(theta)**2)/(zeta**2 + rho**2*np.cos(theta)**2)**2 + (A**2*Y*zeta)/(zeta**2 + rho**2*np.cos(theta)**2) + (A**2*X*rho*np.cos(theta))/(zeta**2 + rho**2*np.cos(theta)**2) +  np.sqrt((A**4*zeta**2)/(zeta**2 + rho**2*np.cos(theta)**2)**2 +  (A**4*rho**2*np.cos(theta)**2)/(zeta**2 + rho**2*np.cos(theta)**2)**2)*np.sqrt((Y - (A**2*zeta)/(zeta**2 + rho**2*np.cos(theta)**2))**2 + (X - (A**2*rho*np.cos(theta))/(zeta**2 + rho**2*np.cos(theta)**2))**2))**2) + (3*A*((A**2*rho*np.cos(theta))/(zeta**2 + rho**2*np.cos(theta)**2) + (X*np.sqrt((A**4*zeta**2)/(zeta**2 + rho**2*np.cos(theta)**2)**2 + (A**4*rho**2*np.cos(theta)**2)/(zeta**2 + rho**2*np.cos(theta)**2)**2))/np.sqrt(X**2 + Y**2))*((Y - (2*A**2*zeta)/(zeta**2 + rho**2*np.cos(theta)**2) - (np.sqrt((A**4*zeta**2)/(zeta**2 + rho**2*np.cos(theta)**2)**2 + (A**4*rho**2*np.cos(theta)**2)/(zeta**2 + rho**2*np.cos(theta)**2)**2)*(Y - (A**2*zeta)/(zeta**2 + rho**2*np.cos(theta)**2)))/np.sqrt((Y - (A**2*zeta)/(zeta**2 + rho**2*np.cos(theta)**2))**2 + (X - (A**2*rho*np.cos(theta))/(zeta**2 + rho**2*np.cos(theta)**2))**2) + (A**2*zeta*np.sqrt((Y - (A**2*zeta)/(zeta**2 + rho**2*np.cos(theta)**2))**2 + (X - (A**2*rho*np.cos(theta))/(zeta**2 + rho**2*np.cos(theta)**2))**2))/((zeta**2 + rho**2*np.cos(theta)**2)*np.sqrt((A**4*zeta**2)/(zeta**2 + rho**2*np.cos(theta)**2)**2 + (A**4*rho**2*np.cos(theta)**2)/(zeta**2 + rho**2*np.cos(theta)**2)**2)))/((A**2*Y*zeta)/(zeta**2 + rho**2*np.cos(theta)**2) + (A**2*X*rho*np.cos(theta))/(zeta**2 + rho**2*np.cos(theta)**2) + np.sqrt(X**2 + Y**2)*np.sqrt((A**4*zeta**2)/(zeta**2 + rho**2*np.cos(theta)**2)**2 + (A**4*rho**2*np.cos(theta)**2)/(zeta**2 + rho**2*np.cos(theta)**2)**2)) - ((Y + (A**2*np.sqrt(X**2 + Y**2)*zeta)/((zeta**2 + rho**2*np.cos(theta)**2)*np.sqrt((A**4*zeta**2)/(zeta**2 + rho**2*np.cos(theta)**2)**2 + (A**4*rho**2*np.cos(theta)**2)/(zeta**2 + rho**2*np.cos(theta)**2)**2)))*(-((A**4*zeta**2)/(zeta**2 + rho**2*np.cos(theta)**2)**2) - (A**4*rho**2*np.cos(theta)**2)/(zeta**2 + rho**2*np.cos(theta)**2)**2 + (A**2*Y*zeta)/(zeta**2 + rho**2*np.cos(theta)**2) + (A**2*X*rho*np.cos(theta))/(zeta**2 + rho**2*np.cos(theta)**2) + np.sqrt((A**4*zeta**2)/(zeta**2 + rho**2*np.cos(theta)**2)**2 + (A**4*rho**2*np.cos(theta)**2)/(zeta**2 + rho**2*np.cos(theta)**2)**2)*np.sqrt((Y - (A**2*zeta)/(zeta**2 + rho**2*np.cos(theta)**2))**2 + (X - (A**2*rho*np.cos(theta))/(zeta**2 + rho**2*np.cos(theta)**2))**2)))/((A**2*Y*zeta)/(zeta**2 + rho**2*np.cos(theta)**2) + (A**2*X*rho*np.cos(theta))/(zeta**2 + rho**2*np.cos(theta)**2) + np.sqrt(X**2 + Y**2)*np.sqrt((A**4*zeta**2)/(zeta**2 + rho**2*np.cos(theta)**2)**2 + (A**4*rho**2*np.cos(theta)**2)/(zeta**2 + rho**2*np.cos(theta)**2)**2))**2))/(np.sqrt((A**4*zeta**2)/(zeta**2 + rho**2*np.cos(theta)**2)**2 + (A**4*rho**2*np.cos(theta)**2)/(zeta**2 + rho**2*np.cos(theta)**2)**2)*(-((A**4*zeta**2)/(zeta**2 + rho**2*np.cos(theta)**2)**2) - (A**4*rho**2*np.cos(theta)**2)/(zeta**2 + rho**2*np.cos(theta)**2)**2 +  (A**2*Y*zeta)/(zeta**2 + rho**2*np.cos(theta)**2) + (A**2*X*rho*np.cos(theta))/(zeta**2 + rho**2*np.cos(theta)**2) + np.sqrt((A**4*zeta**2)/(zeta**2 + rho**2*np.cos(theta)**2)**2 + (A**4*rho**2*np.cos(theta)**2)/(zeta**2 + rho**2*np.cos(theta)**2)**2)*np.sqrt((Y - (A**2*zeta)/(zeta**2 + rho**2*np.cos(theta)**2))**2 + (X - (A**2*rho*np.cos(theta))/(zeta**2 + rho**2*np.cos(theta)**2))**2)))))/(2.0*(zeta**2 + rho**2*np.cos(theta)**2)**1.5)\n",
        "\n",
        "\n",
        "    return dPhi3dx1\n",
        "\n",
        "\n",
        "  # put dphi3dx3 here\n",
        "  # d phi / d x3\n",
        "\n",
        "  def dPhi3dx3(rho,zeta, theta, X, Y):\n",
        "\n",
        "      dPhi3dx3 =  ((A**2 - X**2 - Y**2)*(-A**2 + zeta**2 + rho**2*np.cos(theta)**2)* ((-3*A*(Y - (A**2*zeta)/(zeta**2 + rho**2*np.cos(theta)**2))**2)/ ((Y - (A**2*zeta)/(zeta**2 + rho**2*np.cos(theta)**2))**2 + (X - (A**2*rho*np.cos(theta))/(zeta**2 + rho**2*np.cos(theta)**2))**2)**2.5 +  A/((Y - (A**2*zeta)/(zeta**2 + rho**2*np.cos(theta)**2))**2 +  (X - (A**2*rho*np.cos(theta))/(zeta**2 + rho**2*np.cos(theta)**2))**2)**1.5 - (3*zeta*(Y - (A**2*zeta)/(zeta**2 + rho**2*np.cos(theta)**2)))/(A*((Y - (A**2*zeta)/(zeta**2 + rho**2*np.cos(theta)**2))**2 +  (X - (A**2*rho*np.cos(theta))/(zeta**2 + rho**2*np.cos(theta)**2))**2)**1.5) + (2*zeta*((3*A**2*zeta*(Y - (A**2*zeta)/(zeta**2 + rho**2*np.cos(theta)**2))**2)/ ((zeta**2 + rho**2*np.cos(theta)**2)* ((Y - (A**2*zeta)/(zeta**2 + rho**2*np.cos(theta)**2))**2 +  (X - (A**2*rho*np.cos(theta))/(zeta**2 + rho**2*np.cos(theta)**2))**2)**2.5) +  (3*A**2*rho*np.cos(theta)*(Y - (A**2*zeta)/(zeta**2 + rho**2*np.cos(theta)**2))*(X - (A**2*rho*np.cos(theta))/(zeta**2 + rho**2*np.cos(theta)**2)))/ ((zeta**2 + rho**2*np.cos(theta)**2)* ((Y - (A**2*zeta)/(zeta**2 + rho**2*np.cos(theta)**2))**2 + (X - (A**2*rho*np.cos(theta))/(zeta**2 + rho**2*np.cos(theta)**2))**2)**2.5) - (A**2*zeta)/((zeta**2 + rho**2*np.cos(theta)**2)* ((Y - (A**2*zeta)/(zeta**2 + rho**2*np.cos(theta)**2))**2 +  (X - (A**2*rho*np.cos(theta))/(zeta**2 + rho**2*np.cos(theta)**2))**2)**1.5)))/A + (3*A*((A**2*Y*zeta)/(zeta**2 + rho**2*np.cos(theta)**2) +  (A**2*X*rho*np.cos(theta))/(zeta**2 + rho**2*np.cos(theta)**2) +  np.sqrt(X**2 + Y**2)*np.sqrt((A**4*zeta**2)/(zeta**2 + rho**2*np.cos(theta)**2)**2 + (A**4*rho**2*np.cos(theta)**2)/(zeta**2 + rho**2*np.cos(theta)**2)**2))* ((1 + (np.sqrt((A**4*zeta**2)/(zeta**2 + rho**2*np.cos(theta)**2)**2 + (A**4*rho**2*np.cos(theta)**2)/(zeta**2 + rho**2*np.cos(theta)**2)**2)*(Y - (A**2*zeta)/(zeta**2 + rho**2*np.cos(theta)**2))**2)/ ((Y - (A**2*zeta)/(zeta**2 + rho**2*np.cos(theta)**2))**2 +  (X - (A**2*rho*np.cos(theta))/(zeta**2 + rho**2*np.cos(theta)**2))**2)**1.5 -  np.sqrt((A**4*zeta**2)/(zeta**2 + rho**2*np.cos(theta)**2)**2 +  (A**4*rho**2*np.cos(theta)**2)/(zeta**2 + rho**2*np.cos(theta)**2)**2)/np.sqrt((Y - (A**2*zeta)/(zeta**2 + rho**2*np.cos(theta)**2))**2 + (X - (A**2*rho*np.cos(theta))/(zeta**2 + rho**2*np.cos(theta)**2))**2) + (A**2*zeta*(Y - (A**2*zeta)/(zeta**2 + rho**2*np.cos(theta)**2)))/ ((zeta**2 + rho**2*np.cos(theta)**2)*np.sqrt((A**4*zeta**2)/(zeta**2 + rho**2*np.cos(theta)**2)**2 +  (A**4*rho**2*np.cos(theta)**2)/(zeta**2 + rho**2*np.cos(theta)**2)**2)* np.sqrt((Y - (A**2*zeta)/(zeta**2 + rho**2*np.cos(theta)**2))**2 +  (X - (A**2*rho*np.cos(theta))/(zeta**2 + rho**2*np.cos(theta)**2))**2)))/ ((A**2*Y*zeta)/(zeta**2 + rho**2*np.cos(theta)**2) +  (A**2*X*rho*np.cos(theta))/(zeta**2 + rho**2*np.cos(theta)**2) +  np.sqrt(X**2 + Y**2)*np.sqrt((A**4*zeta**2)/(zeta**2 + rho**2*np.cos(theta)**2)**2 + (A**4*rho**2*np.cos(theta)**2)/(zeta**2 + rho**2*np.cos(theta)**2)**2)) - ((Y + (A**2*np.sqrt(X**2 + Y**2)*zeta)/ ((zeta**2 + rho**2*np.cos(theta)**2)*np.sqrt((A**4*zeta**2)/(zeta**2 + rho**2*np.cos(theta)**2)**2 +  (A**4*rho**2*np.cos(theta)**2)/(zeta**2 + rho**2*np.cos(theta)**2)**2)))* ((A**2*zeta)/(zeta**2 + rho**2*np.cos(theta)**2) +  (np.sqrt((A**4*zeta**2)/(zeta**2 + rho**2*np.cos(theta)**2)**2 +  (A**4*rho**2*np.cos(theta)**2)/(zeta**2 + rho**2*np.cos(theta)**2)**2)* (Y - (A**2*zeta)/(zeta**2 + rho**2*np.cos(theta)**2)))/ np.sqrt((Y - (A**2*zeta)/(zeta**2 + rho**2*np.cos(theta)**2))**2 + (X - (A**2*rho*np.cos(theta))/(zeta**2 + rho**2*np.cos(theta)**2))**2)))/((A**2*Y*zeta)/(zeta**2 + rho**2*np.cos(theta)**2) + (A**2*X*rho*np.cos(theta))/(zeta**2 + rho**2*np.cos(theta)**2) +  np.sqrt(X**2 + Y**2)* np.sqrt((A**4*zeta**2)/(zeta**2 + rho**2*np.cos(theta)**2)**2 +  (A**4*rho**2*np.cos(theta)**2)/(zeta**2 + rho**2*np.cos(theta)**2)**2))**2 -  (((A**2*zeta)/(zeta**2 + rho**2*np.cos(theta)**2) +  (Y*np.sqrt((A**4*zeta**2)/(zeta**2 + rho**2*np.cos(theta)**2)**2 + (A**4*rho**2*np.cos(theta)**2)/(zeta**2 + rho**2*np.cos(theta)**2)**2))/ np.sqrt(X**2 + Y**2))* (Y - (2*A**2*zeta)/(zeta**2 + rho**2*np.cos(theta)**2) - (np.sqrt((A**4*zeta**2)/(zeta**2 + rho**2*np.cos(theta)**2)**2 + (A**4*rho**2*np.cos(theta)**2)/(zeta**2 + rho**2*np.cos(theta)**2)**2)*(Y - (A**2*zeta)/(zeta**2 + rho**2*np.cos(theta)**2)))/np.sqrt((Y - (A**2*zeta)/(zeta**2 + rho**2*np.cos(theta)**2))**2 +  (X - (A**2*rho*np.cos(theta))/(zeta**2 + rho**2*np.cos(theta)**2))**2) + (A**2*zeta*np.sqrt((Y - (A**2*zeta)/(zeta**2 + rho**2*np.cos(theta)**2))**2 + (X - (A**2*rho*np.cos(theta))/(zeta**2 + rho**2*np.cos(theta)**2))**2))/ ((zeta**2 + rho**2*np.cos(theta)**2)* np.sqrt((A**4*zeta**2)/(zeta**2 + rho**2*np.cos(theta)**2)**2 +  (A**4*rho**2*np.cos(theta)**2)/(zeta**2 + rho**2*np.cos(theta)**2)**2))))/((A**2*Y*zeta)/(zeta**2 + rho**2*np.cos(theta)**2) +  (A**2*X*rho*np.cos(theta))/(zeta**2 + rho**2*np.cos(theta)**2) +  np.sqrt(X**2 + Y**2)* np.sqrt((A**4*zeta**2)/(zeta**2 + rho**2*np.cos(theta)**2)**2 +  (A**4*rho**2*np.cos(theta)**2)/(zeta**2 + rho**2*np.cos(theta)**2)**2))**2 + (2*(Y + (A**2*np.sqrt(X**2 + Y**2)*zeta)/ ((zeta**2 + rho**2*np.cos(theta)**2)* np.sqrt((A**4*zeta**2)/(zeta**2 + rho**2*np.cos(theta)**2)**2 + (A**4*rho**2*np.cos(theta)**2)/(zeta**2 + rho**2*np.cos(theta)**2)**2)))* ((A**2*zeta)/(zeta**2 + rho**2*np.cos(theta)**2) +  (Y*np.sqrt((A**4*zeta**2)/(zeta**2 + rho**2*np.cos(theta)**2)**2 +  (A**4*rho**2*np.cos(theta)**2)/(zeta**2 + rho**2*np.cos(theta)**2)**2))/ np.sqrt(X**2 + Y**2))* (-((A**4*zeta**2)/(zeta**2 + rho**2*np.cos(theta)**2)**2) -   (A**4*rho**2*np.cos(theta)**2)/(zeta**2 + rho**2*np.cos(theta)**2)**2 + (A**2*Y*zeta)/(zeta**2 + rho**2*np.cos(theta)**2) +  (A**2*X*rho*np.cos(theta))/(zeta**2 + rho**2*np.cos(theta)**2) +  np.sqrt((A**4*zeta**2)/(zeta**2 + rho**2*np.cos(theta)**2)**2 +  (A**4*rho**2*np.cos(theta)**2)/(zeta**2 + rho**2*np.cos(theta)**2)**2)* np.sqrt((Y - (A**2*zeta)/(zeta**2 + rho**2*np.cos(theta)**2))**2 +  (X - (A**2*rho*np.cos(theta))/(zeta**2 + rho**2*np.cos(theta)**2))**2)))/ ((A**2*Y*zeta)/(zeta**2 + rho**2*np.cos(theta)**2) +  (A**2*X*rho*np.cos(theta))/(zeta**2 + rho**2*np.cos(theta)**2) +  np.sqrt(X**2 + Y**2)* np.sqrt((A**4*zeta**2)/(zeta**2 + rho**2*np.cos(theta)**2)**2 + (A**4*rho**2*np.cos(theta)**2)/(zeta**2 + rho**2*np.cos(theta)**2)**2))**3 -  ((1 + (A**2*Y*zeta)/ (np.sqrt(X**2 + Y**2)*(zeta**2 + rho**2*np.cos(theta)**2)*  np.sqrt((A**4*zeta**2)/(zeta**2 + rho**2*np.cos(theta)**2)**2 + (A**4*rho**2*np.cos(theta)**2)/(zeta**2 + rho**2*np.cos(theta)**2)**2)))* (-((A**4*zeta**2)/(zeta**2 + rho**2*np.cos(theta)**2)**2) -  (A**4*rho**2*np.cos(theta)**2)/(zeta**2 + rho**2*np.cos(theta)**2)**2 +   (A**2*Y*zeta)/(zeta**2 + rho**2*np.cos(theta)**2) +  (A**2*X*rho*np.cos(theta))/(zeta**2 + rho**2*np.cos(theta)**2) +  np.sqrt((A**4*zeta**2)/(zeta**2 + rho**2*np.cos(theta)**2)**2 +  (A**4*rho**2*np.cos(theta)**2)/(zeta**2 + rho**2*np.cos(theta)**2)**2)* np.sqrt((Y - (A**2*zeta)/(zeta**2 + rho**2*np.cos(theta)**2))**2 +   (X - (A**2*rho*np.cos(theta))/(zeta**2 + rho**2*np.cos(theta)**2))**2)))/ ((A**2*Y*zeta)/(zeta**2 + rho**2*np.cos(theta)**2) +  (A**2*X*rho*np.cos(theta))/(zeta**2 + rho**2*np.cos(theta)**2) +  np.sqrt(X**2 + Y**2)* np.sqrt((A**4*zeta**2)/(zeta**2 + rho**2*np.cos(theta)**2)**2 +  (A**4*rho**2*np.cos(theta)**2)/(zeta**2 + rho**2*np.cos(theta)**2)**2))**2))/ (np.sqrt((A**4*zeta**2)/(zeta**2 + rho**2*np.cos(theta)**2)**2 +  (A**4*rho**2*np.cos(theta)**2)/(zeta**2 + rho**2*np.cos(theta)**2)**2)* (-((A**4*zeta**2)/(zeta**2 + rho**2*np.cos(theta)**2)**2) -  (A**4*rho**2*np.cos(theta)**2)/(zeta**2 + rho**2*np.cos(theta)**2)**2 +  (A**2*Y*zeta)/(zeta**2 + rho**2*np.cos(theta)**2) +  (A**2*X*rho*np.cos(theta))/(zeta**2 + rho**2*np.cos(theta)**2) + np.sqrt((A**4*zeta**2)/(zeta**2 + rho**2*np.cos(theta)**2)**2 +  (A**4*rho**2*np.cos(theta)**2)/(zeta**2 + rho**2*np.cos(theta)**2)**2)* np.sqrt((Y - (A**2*zeta)/(zeta**2 + rho**2*np.cos(theta)**2))**2 +   (X - (A**2*rho*np.cos(theta))/(zeta**2 + rho**2*np.cos(theta)**2))**2))) - (3*A*((A**2*Y*zeta)/(zeta**2 + rho**2*np.cos(theta)**2) +  (A**2*X*rho*np.cos(theta))/(zeta**2 + rho**2*np.cos(theta)**2) +  np.sqrt(X**2 + Y**2)*np.sqrt((A**4*zeta**2)/(zeta**2 + rho**2*np.cos(theta)**2)**2 + (A**4*rho**2*np.cos(theta)**2)/(zeta**2 + rho**2*np.cos(theta)**2)**2))* ((A**2*zeta)/(zeta**2 + rho**2*np.cos(theta)**2) + (np.sqrt((A**4*zeta**2)/(zeta**2 + rho**2*np.cos(theta)**2)**2 +  (A**4*rho**2*np.cos(theta)**2)/(zeta**2 + rho**2*np.cos(theta)**2)**2)* (Y - (A**2*zeta)/(zeta**2 + rho**2*np.cos(theta)**2)))/np.sqrt((Y - (A**2*zeta)/(zeta**2 + rho**2*np.cos(theta)**2))**2 +  (X - (A**2*rho*np.cos(theta))/(zeta**2 + rho**2*np.cos(theta)**2))**2))* ((Y - (2*A**2*zeta)/(zeta**2 + rho**2*np.cos(theta)**2) -  (np.sqrt((A**4*zeta**2)/(zeta**2 + rho**2*np.cos(theta)**2)**2 +  (A**4*rho**2*np.cos(theta)**2)/(zeta**2 + rho**2*np.cos(theta)**2)**2)* (Y - (A**2*zeta)/(zeta**2 + rho**2*np.cos(theta)**2)))/  np.sqrt((Y - (A**2*zeta)/(zeta**2 + rho**2*np.cos(theta)**2))**2 + (X - (A**2*rho*np.cos(theta))/(zeta**2 + rho**2*np.cos(theta)**2))**2) +  (A**2*zeta*np.sqrt((Y - (A**2*zeta)/(zeta**2 + rho**2*np.cos(theta)**2))**2 + (X - (A**2*rho*np.cos(theta))/(zeta**2 + rho**2*np.cos(theta)**2))**2))/((zeta**2 + rho**2*np.cos(theta)**2)*np.sqrt((A**4*zeta**2)/(zeta**2 + rho**2*np.cos(theta)**2)**2 +  (A**4*rho**2*np.cos(theta)**2)/(zeta**2 + rho**2*np.cos(theta)**2)**2)))/((A**2*Y*zeta)/(zeta**2 + rho**2*np.cos(theta)**2) + (A**2*X*rho*np.cos(theta))/(zeta**2 + rho**2*np.cos(theta)**2) +  np.sqrt(X**2 + Y**2)*np.sqrt((A**4*zeta**2)/(zeta**2 + rho**2*np.cos(theta)**2)**2 +  (A**4*rho**2*np.cos(theta)**2)/(zeta**2 + rho**2*np.cos(theta)**2)**2)) -  ((Y + (A**2*np.sqrt(X**2 + Y**2)*zeta)/ ((zeta**2 + rho**2*np.cos(theta)**2)* np.sqrt((A**4*zeta**2)/(zeta**2 + rho**2*np.cos(theta)**2)**2 +  (A**4*rho**2*np.cos(theta)**2)/(zeta**2 + rho**2*np.cos(theta)**2)**2)))* (-((A**4*zeta**2)/(zeta**2 + rho**2*np.cos(theta)**2)**2) -  (A**4*rho**2*np.cos(theta)**2)/(zeta**2 + rho**2*np.cos(theta)**2)**2 +  (A**2*Y*zeta)/(zeta**2 + rho**2*np.cos(theta)**2) +  (A**2*X*rho*np.cos(theta))/(zeta**2 + rho**2*np.cos(theta)**2) + np.sqrt((A**4*zeta**2)/(zeta**2 + rho**2*np.cos(theta)**2)**2 + (A**4*rho**2*np.cos(theta)**2)/(zeta**2 + rho**2*np.cos(theta)**2)**2)* np.sqrt((Y - (A**2*zeta)/(zeta**2 + rho**2*np.cos(theta)**2))**2 +  (X - (A**2*rho*np.cos(theta))/(zeta**2 + rho**2*np.cos(theta)**2))**2)))/ ((A**2*Y*zeta)/(zeta**2 + rho**2*np.cos(theta)**2) + (A**2*X*rho*np.cos(theta))/(zeta**2 + rho**2*np.cos(theta)**2) + np.sqrt(X**2 + Y**2)* np.sqrt((A**4*zeta**2)/(zeta**2 + rho**2*np.cos(theta)**2)**2 +  (A**4*rho**2*np.cos(theta)**2)/(zeta**2 + rho**2*np.cos(theta)**2)**2))**2))/ (np.sqrt((A**4*zeta**2)/(zeta**2 + rho**2*np.cos(theta)**2)**2 +  (A**4*rho**2*np.cos(theta)**2)/(zeta**2 + rho**2*np.cos(theta)**2)**2)*  (-((A**4*zeta**2)/(zeta**2 + rho**2*np.cos(theta)**2)**2) - (A**4*rho**2*np.cos(theta)**2)/(zeta**2 + rho**2*np.cos(theta)**2)**2 + (A**2*Y*zeta)/(zeta**2 + rho**2*np.cos(theta)**2) + (A**2*X*rho*np.cos(theta))/(zeta**2 + rho**2*np.cos(theta)**2) +  np.sqrt((A**4*zeta**2)/(zeta**2 + rho**2*np.cos(theta)**2)**2 + (A**4*rho**2*np.cos(theta)**2)/(zeta**2 + rho**2*np.cos(theta)**2)**2)* np.sqrt((Y - (A**2*zeta)/(zeta**2 + rho**2*np.cos(theta)**2))**2 +  (X - (A**2*rho*np.cos(theta))/(zeta**2 + rho**2*np.cos(theta)**2))**2))**2) +  (3*A*((A**2*zeta)/(zeta**2 + rho**2*np.cos(theta)**2) +  (Y*np.sqrt((A**4*zeta**2)/(zeta**2 + rho**2*np.cos(theta)**2)**2 + (A**4*rho**2*np.cos(theta)**2)/(zeta**2 + rho**2*np.cos(theta)**2)**2))/np.sqrt(X**2 + Y**2))*((Y - (2*A**2*zeta)/(zeta**2 + rho**2*np.cos(theta)**2) -  (np.sqrt((A**4*zeta**2)/(zeta**2 + rho**2*np.cos(theta)**2)**2 + (A**4*rho**2*np.cos(theta)**2)/(zeta**2 + rho**2*np.cos(theta)**2)**2)* (Y - (A**2*zeta)/(zeta**2 + rho**2*np.cos(theta)**2)))/ np.sqrt((Y - (A**2*zeta)/(zeta**2 + rho**2*np.cos(theta)**2))**2 + (X - (A**2*rho*np.cos(theta))/(zeta**2 + rho**2*np.cos(theta)**2))**2) +  (A**2*zeta*np.sqrt((Y - (A**2*zeta)/(zeta**2 + rho**2*np.cos(theta)**2))**2 +  (X - (A**2*rho*np.cos(theta))/(zeta**2 + rho**2*np.cos(theta)**2))**2))/ ((zeta**2 + rho**2*np.cos(theta)**2)*np.sqrt((A**4*zeta**2)/(zeta**2 + rho**2*np.cos(theta)**2)**2 + (A**4*rho**2*np.cos(theta)**2)/(zeta**2 + rho**2*np.cos(theta)**2)**2)))/ ((A**2*Y*zeta)/(zeta**2 + rho**2*np.cos(theta)**2) +  (A**2*X*rho*np.cos(theta))/(zeta**2 + rho**2*np.cos(theta)**2) + np.sqrt(X**2 + Y**2)*np.sqrt((A**4*zeta**2)/(zeta**2 + rho**2*np.cos(theta)**2)**2 +  (A**4*rho**2*np.cos(theta)**2)/(zeta**2 + rho**2*np.cos(theta)**2)**2)) - ((Y + (A**2*np.sqrt(X**2 + Y**2)*zeta)/((zeta**2 + rho**2*np.cos(theta)**2)*np.sqrt((A**4*zeta**2)/(zeta**2 + rho**2*np.cos(theta)**2)**2 +  (A**4*rho**2*np.cos(theta)**2)/(zeta**2 + rho**2*np.cos(theta)**2)**2)))*(-((A**4*zeta**2)/(zeta**2 + rho**2*np.cos(theta)**2)**2) -  (A**4*rho**2*np.cos(theta)**2)/(zeta**2 + rho**2*np.cos(theta)**2)**2 + (A**2*Y*zeta)/(zeta**2 + rho**2*np.cos(theta)**2) +  (A**2*X*rho*np.cos(theta))/(zeta**2 + rho**2*np.cos(theta)**2) +  np.sqrt((A**4*zeta**2)/(zeta**2 + rho**2*np.cos(theta)**2)**2 + (A**4*rho**2*np.cos(theta)**2)/(zeta**2 + rho**2*np.cos(theta)**2)**2)*np.sqrt((Y - (A**2*zeta)/(zeta**2 + rho**2*np.cos(theta)**2))**2 + (X - (A**2*rho*np.cos(theta))/(zeta**2 + rho**2*np.cos(theta)**2))**2)))/ ((A**2*Y*zeta)/(zeta**2 + rho**2*np.cos(theta)**2) + (A**2*X*rho*np.cos(theta))/(zeta**2 + rho**2*np.cos(theta)**2) +  np.sqrt(X**2 + Y**2)* np.sqrt((A**4*zeta**2)/(zeta**2 + rho**2*np.cos(theta)**2)**2 +  (A**4*rho**2*np.cos(theta)**2)/(zeta**2 + rho**2*np.cos(theta)**2)**2))**2))/(np.sqrt((A**4*zeta**2)/(zeta**2 + rho**2*np.cos(theta)**2)**2 +  (A**4*rho**2*np.cos(theta)**2)/(zeta**2 + rho**2*np.cos(theta)**2)**2)* (-((A**4*zeta**2)/(zeta**2 + rho**2*np.cos(theta)**2)**2) - (A**4*rho**2*np.cos(theta)**2)/(zeta**2 + rho**2*np.cos(theta)**2)**2 +  (A**2*Y*zeta)/(zeta**2 + rho**2*np.cos(theta)**2) + (A**2*X*rho*np.cos(theta))/(zeta**2 + rho**2*np.cos(theta)**2) + np.sqrt((A**4*zeta**2)/(zeta**2 + rho**2*np.cos(theta)**2)**2 + (A**4*rho**2*np.cos(theta)**2)/(zeta**2 + rho**2*np.cos(theta)**2)**2)*np.sqrt((Y - (A**2*zeta)/(zeta**2 + rho**2*np.cos(theta)**2))**2 + (X - (A**2*rho*np.cos(theta))/(zeta**2 + rho**2*np.cos(theta)**2))**2)))))/(2.0*(zeta**2 + rho**2*np.cos(theta)**2)**1.5)\n",
        "\n",
        "      return dPhi3dx3\n",
        "\n",
        "  def Oseen_x(rho, zeta, theta):\n",
        "\n",
        "    #singularity_boolean = 1.0*((((X-rho)**2 + (Y-zeta)**2) > epsilon))\n",
        "\n",
        "\n",
        "    singularity_boolean = 1.0*(((((X-rho)**2 + (Y-zeta)**2) > epsilon**2) ))\n",
        "\n",
        "    #singularity_boolean = 1.0*(((((X-rho)**2+(Y-zeta)**2)) > epsilon) & (X>epsilon))\n",
        "\n",
        "\n",
        "\n",
        "    sing_indicies = np.where(singularity_boolean)[0]\n",
        "\n",
        "    r = np.sqrt(X[sing_indicies]**2 + rho**2 + Y[sing_indicies]**2 - 2*Y[sing_indicies]*zeta + zeta**2 - 2*X[sing_indicies]*rho*np.cos(theta))\n",
        "\n",
        "    rs = (A**2 / (rho**2+zeta**2))*r\n",
        "\n",
        "    Full_Wx = np.zeros(len(X))\n",
        "\n",
        "    Full_Wx[sing_indicies] =  ((Y[sing_indicies] - zeta)*(X[sing_indicies] - rho*np.cos(theta)))/(r**3)\n",
        "    - (A**3*(A**2*rho*np.cos(theta) - X[sing_indicies]*(zeta**2 + rho**2*np.cos(theta)**2))*(A**2*zeta - Y[sing_indicies]*(zeta**2 + rho**2*np.cos(theta)**2)))/((zeta**2 + rho**2*np.cos(theta)**2)**3.5*((Y[sing_indicies] - (A**2*zeta)/(zeta**2 + rho**2*np.cos(theta)**2))**2+ (X[sing_indicies] - (A**2*rho*np.cos(theta))/(zeta**2 + rho**2*np.cos(theta)**2))**2)**1.5) + (A*(A**2 - zeta**2 - rho**2*np.cos(theta)**2)*(-(A**2*X[sing_indicies]*zeta**3) + rho*zeta*(A**4 - A**2*Y[sing_indicies]*zeta + (X[sing_indicies]**2 + Y[sing_indicies]**2)*zeta**2)*np.cos(theta) - A**2*X[sing_indicies]*rho**2*zeta*np.cos(theta)**2 - rho**3*(A**2*Y[sing_indicies] - (X[sing_indicies]**2 + Y[sing_indicies]**2)*zeta)*np.cos(theta)**3))/((zeta**2 + rho**2*np.cos(theta)**2)**2.5*(A**4 - 2*A**2*Y[sing_indicies]*zeta + (X[sing_indicies]**2 + Y[sing_indicies]**2)*zeta**2 - 2*A**2*X[sing_indicies]*rho*np.cos(theta) + rho**2*(X[sing_indicies]**2 + Y[sing_indicies]**2)*np.cos(theta)**2)*np.sqrt((Y[sing_indicies] - (A**2*zeta)/(zeta**2 + rho**2*np.cos(theta)**2))**2 + (X[sing_indicies] - (A**2*rho*np.cos(theta))/(zeta**2 + rho**2*np.cos(theta)**2))**2)) + dPhi3dx1(X[sing_indicies], Y[sing_indicies], rho, zeta, theta)\n",
        "    #Full_Wx[sing_indicies] = 0\n",
        "\n",
        "    #-(mod(X[sing_indicies], Y[sing_indicies])-A**2)*dPhidx1(rho,zeta,theta,X[sing_indicies],Y[sing_indicies])+\n",
        "    return Full_Wx\n",
        "\n",
        "  # Full Oseen in Z, y, x3 direction\n",
        "\n",
        "  def Oseen_y(rho, zeta, theta):\n",
        "\n",
        "    singularity_boolean = 1.0*(((((X-rho)**2 + (Y-zeta)**2) > epsilon**2) ))\n",
        "\n",
        "\n",
        "\n",
        "    #singularity_boolean = 1.0*(((((X-rho)**2+(Y-zeta)**2)) > epsilon) & (X>epsilon))\n",
        "\n",
        "    sing_indicies = np.where(singularity_boolean)[0]\n",
        "\n",
        "    #print(sing_indicies)\n",
        "\n",
        "    Full_Wy = np.zeros(len(X))\n",
        "    rr = np.sqrt(X[sing_indicies]**2 + rho**2 + Y[sing_indicies]**2 - 2*Y[sing_indicies]*zeta + zeta**2 - 2*X[sing_indicies]*rho*np.cos(theta))\n",
        "\n",
        "    Full_Wy[sing_indicies] =   (Y[sing_indicies] - zeta)**2/(rr**3)\n",
        "    + 1/rr - (A**3*(Y[sing_indicies] - (A**2*zeta)/(zeta**2 + rho**2*np.cos(theta)**2))**2)/((zeta**2 + rho**2*np.cos(theta)**2)**1.5*((Y[sing_indicies] - (A**2*zeta)/(zeta**2 + rho**2*np.cos(theta)**2))**2 + (X[sing_indicies] - (A**2*rho*np.cos(theta))/(zeta**2 + rho**2*np.cos(theta)**2))**2)**1.5) - A/(np.sqrt(zeta**2 + rho**2*np.cos(theta)**2)*np.sqrt((Y[sing_indicies] - (A**2*zeta)/(zeta**2 + rho**2*np.cos(theta)**2))**2 + (X[sing_indicies] - (A**2*rho*np.cos(theta))/(zeta**2 + rho**2*np.cos(theta)**2))**2)) + (A*zeta*(A**2 - zeta**2 - rho**2*np.cos(theta)**2)*(zeta*(A**4 - 2*A**2*Y[sing_indicies]*zeta + (X[sing_indicies]**2 + Y[sing_indicies]**2)*zeta**2) - rho**2*(2*A**2*Y[sing_indicies] - (X[sing_indicies]**2 + Y[sing_indicies]**2)*zeta)*np.cos(theta)**2))/((zeta**2 + rho**2*np.cos(theta)**2)**2.5*(A**4 - 2*A**2*Y[sing_indicies]*zeta + (X[sing_indicies]**2 + Y[sing_indicies]**2)*zeta**2 - 2*A**2*X[sing_indicies]*rho*np.cos(theta) + rho**2*(X[sing_indicies]**2 + Y[sing_indicies]**2)*np.cos(theta)**2)*np.sqrt((Y[sing_indicies] - (A**2*zeta)/(zeta**2 + rho**2*np.cos(theta)**2))**2 + (X[sing_indicies] - (A**2*rho*np.cos(theta))/(zeta**2 + rho**2*np.cos(theta)**2))**2)) +dPhi3dx3(X[sing_indicies], Y[sing_indicies], rho, zeta, theta)\n",
        "\n",
        "    #-(mod(X[sing_indicies], Y[sing_indicies])-A**2)*dPhidx3(rho,zeta,theta,X[sing_indicies],Y[sing_indicies])+\n",
        "    return Full_Wy\n",
        "\n",
        "\n",
        "  #print(Oseen_x(rho, zeta, theta))\n",
        "\n",
        "  #print('Wx=', Oseen_x(rho,zeta,theta))\n",
        "\n",
        "\n",
        "  return Oseen_x(rho, zeta, theta), Oseen_y(rho, zeta, theta)"
      ]
    },
    {
      "cell_type": "markdown",
      "metadata": {
        "id": "NWsThcqbNd-q"
      },
      "source": [
        "# Far Field"
      ]
    },
    {
      "cell_type": "code",
      "execution_count": null,
      "metadata": {
        "id": "1S_I393Mt7Hg"
      },
      "outputs": [],
      "source": [
        "def FarField_defs(rho, zeta, X, Y):\n",
        "\n",
        "  def lamb(rho, zeta, X, Y):\n",
        "    #from EulerMethod_n import r, Astar, y0, yend\n",
        "\n",
        "    #print('lamb numerator:', 4*X*rho)\n",
        "    #print('lamb denominator:', (X**2 -2*rho*X + Y**2 + zeta**2 + rho**2 - 2*Y*zeta))\n",
        "\n",
        "    lambd = - (4*X*rho)/ (X**2 -2*rho*X + Y**2 + zeta**2 + rho**2 - 2*Y*zeta)\n",
        "\n",
        "    #print('lambd:', lambd)\n",
        "    return lambd\n",
        "\n",
        "  def K(argument):\n",
        "\n",
        "    #return 1.0\n",
        "\n",
        "    return sp.special.ellipk(argument) # complete integral of second kind\n",
        "\n",
        "  def E(argument):\n",
        "\n",
        "    #return 1.0\n",
        "\n",
        "    return sp.special.ellipe(argument) # incomplete integral of second kind\n",
        "\n",
        "  #print(len(X))\n",
        "  def W_FFx(rho, zeta, X, Y):\n",
        "\n",
        "    singularity_boolean = 1.0*(((((X-rho)**2+(Y-zeta)**2)) > epsilon) & (X>0))\n",
        "\n",
        "    sing_indicies = np.where(singularity_boolean)[0]\n",
        "\n",
        "    W_FFx = np.zeros(len(X))\n",
        "\n",
        "\n",
        "\n",
        "    argument = lamb(rho,zeta,X[sing_indicies],Y[sing_indicies])\n",
        "\n",
        "\n",
        "\n",
        "    #W_FFx[sing_indicies] =0\n",
        "\n",
        "    #W_FFx[sing_indicies] = (3*A*X[sing_indicies]*Y[sing_indicies]*(2*zeta**2 + rho**2))/(16.0*(X[sing_indicies]**2 + Y[sing_indicies]**2)**1.5*mu*(zeta**2 + rho**2)**1.5) + (3*A**5*X[sing_indicies]*(8*zeta**3*(2*X[sing_indicies]**4 - 2*Y[sing_indicies]**2*(Y[sing_indicies] - 4*zeta)*(2*Y[sing_indicies] - zeta) + X[sing_indicies]**2*(-2*Y[sing_indicies]**2 - 17*Y[sing_indicies]*zeta + 2*zeta**2)) + 8*zeta*(-3*X[sing_indicies]**4 + Y[sing_indicies]**2*(6*Y[sing_indicies]**2 - 33*Y[sing_indicies]*zeta - 4*zeta**2) + X[sing_indicies]**2*(3*Y[sing_indicies]**2 + 37*Y[sing_indicies]*zeta + zeta**2))*rho**2 + (4*Y[sing_indicies]**2*(3*Y[sing_indicies] + 8*zeta) - X[sing_indicies]**2*(23*Y[sing_indicies] + 8*zeta))*rho**4))/(128.0*(X[sing_indicies]**2 + Y[sing_indicies]**2)**3.5*mu*(zeta**2 + rho**2)**3.5) + (A**3*X[sing_indicies]*(X[sing_indicies]**2*(Y[sing_indicies] + 5*zeta)*(2*zeta**2 - rho**2) + Y[sing_indicies]*(Y[sing_indicies]**2*(2*zeta**2 - rho**2) + 10*Y[sing_indicies]*zeta*(-2*zeta**2 + rho**2) + 3*(2*zeta**4 + 3*zeta**2*rho**2 + rho**4))))/(16.0*(X[sing_indicies]**2 + Y[sing_indicies]**2)**2.5*mu*(zeta**2 + rho**2)**2.5) - ((Y[sing_indicies] - zeta)*(2*(X[sing_indicies]**2 - Y[sing_indicies]**2 + 2*Y[sing_indicies]*zeta - zeta**2 - rho**2)*E(argument) + 2*(X[sing_indicies]**2 + Y[sing_indicies]**2 - 2*Y[sing_indicies]*zeta + zeta**2 + 2*X[sing_indicies]*rho + rho**2)*K(argument)))/(X[sing_indicies]*np.sqrt(X[sing_indicies]**2 + Y[sing_indicies]**2 - 2*Y[sing_indicies]*zeta + zeta**2 - 2*X[sing_indicies]*rho + rho**2)*(X[sing_indicies]**2 + Y[sing_indicies]**2 - 2*Y[sing_indicies]*zeta + zeta**2 + 2*X[sing_indicies]*rho + rho**2))\n",
        "\n",
        "    #W_FFx[sing_indicies] = (2*(E(argument)*(-rho**2 + X[sing_indicies]**2 - (Y[sing_indicies] - zeta)**2) + K(argument)*((rho + X[sing_indicies])**2 + (Y[sing_indicies] - zeta)**2))*(Y[sing_indicies] - zeta))/(np.pi*X[sing_indicies]*np.sqrt((-rho + X[sing_indicies])**2 + (Y[sing_indicies] - zeta)**2)*((rho + X[sing_indicies])**2 + (Y[sing_indicies] - zeta)**2)) - (3*X[sing_indicies]*Y[sing_indicies]*(rho**2 + 2*zeta**2))/(2.0*(X[sing_indicies]**2 + Y[sing_indicies]**2)**1.5*(rho**2 + zeta**2)**1.5) + (X[sing_indicies]*(X[sing_indicies]**2*(Y[sing_indicies] + 5*zeta)*(-rho**2 + 2*zeta**2) + Y[sing_indicies]*(10*Y[sing_indicies]*zeta*(rho**2 - 2*zeta**2) + Y[sing_indicies]**2*(-rho**2 + 2*zeta**2) + 3*(rho**4 + 3*rho**2*zeta**2 + 2*zeta**4))))/(2.0*(X[sing_indicies]**2 + Y[sing_indicies]**2)**2.5*(rho**2 + zeta**2)**2.5) - (3*X[sing_indicies]*(8*X[sing_indicies]**4*(-3*rho**2*zeta + 2*zeta**3) + X[sing_indicies]**2*(-8*Y[sing_indicies]**2*(-3*rho**2*zeta + 2*zeta**3) + Y[sing_indicies]*(-23*rho**4 + 296*rho**2*zeta**2 - 136*zeta**4) + 8*zeta*(-rho**4 + rho**2*zeta**2 + 2*zeta**4)) - 4*Y[sing_indicies]**2*(4*Y[sing_indicies]**2*(-3*rho**2*zeta + 2*zeta**3) + 8*zeta*(-rho**4 + rho**2*zeta**2 + 2*zeta**4) - 3*Y[sing_indicies]*(rho**4 - 22*rho**2*zeta**2 + 12*zeta**4))))/(16.0*(X[sing_indicies]**2 + Y[sing_indicies]**2)**3.5*(rho**2 + zeta**2)**3.5)\n",
        "    W_FFx[sing_indicies] = (2*(E(argument)*(-rho**2 + X[sing_indicies]**2 - (Y[sing_indicies] - zeta)**2) + K(argument)*((rho + X[sing_indicies])**2 + (Y[sing_indicies] - zeta)**2))*(Y[sing_indicies] - zeta))/(X[sing_indicies]*np.sqrt((-rho + X[sing_indicies])**2 + (Y[sing_indicies] - zeta)**2)*((rho + X[sing_indicies])**2 + (Y[sing_indicies] - zeta)**2)) - (3*X[sing_indicies]*Y[sing_indicies]*(rho**2 + 2*zeta**2))/(2.0*(X[sing_indicies]**2 + Y[sing_indicies]**2)**1.5*(rho**2 + zeta**2)**1.5) + (X[sing_indicies]*(X[sing_indicies]**2*(Y[sing_indicies] + 5*zeta)*(-rho**2 + 2*zeta**2) + Y[sing_indicies]*(10*Y[sing_indicies]*zeta*(rho**2 - 2*zeta**2) + Y[sing_indicies]**2*(-rho**2 + 2*zeta**2) + 3*(rho**4 + 3*rho**2*zeta**2 + 2*zeta**4))))/(2.0*(X[sing_indicies]**2 + Y[sing_indicies]**2)**2.5*(rho**2 + zeta**2)**2.5) - (3*X[sing_indicies]*(8*X[sing_indicies]**4*(-3*rho**2*zeta + 2*zeta**3) + X[sing_indicies]**2*(-8*Y[sing_indicies]**2*(-3*rho**2*zeta + 2*zeta**3) + Y[sing_indicies]*(-23*rho**4 + 296*rho**2*zeta**2 - 136*zeta**4) + 8*zeta*(-rho**4 + rho**2*zeta**2 + 2*zeta**4)) - 4*Y[sing_indicies]**2*(4*Y[sing_indicies]**2*(-3*rho**2*zeta + 2*zeta**3) + 8*zeta*(-rho**4 + rho**2*zeta**2 + 2*zeta**4) - 3*Y[sing_indicies]*(rho**4 - 22*rho**2*zeta**2 + 12*zeta**4))))/(16.0*(X[sing_indicies]**2 + Y[sing_indicies]**2)**3.5*(rho**2 + zeta**2)**3.5)\n",
        "\n",
        "    return W_FFx\n",
        "\n",
        "\n",
        "  def W_FFy(rho,zeta, X, Y):\n",
        "\n",
        "    #singularity_boolean = 1.0*((((X-rho)**2+(Y-zeta)**2)) > epsilon)\n",
        "\n",
        "\n",
        "    singularity_boolean = 1.0*((((X-rho)**2+(Y-zeta)**2) > epsilon**2) )#& (X>0))\n",
        "\n",
        "\n",
        "\n",
        "    sing_indicies = np.where(singularity_boolean)[0]\n",
        "\n",
        "    W_FFy = np.zeros(len(X))\n",
        "\n",
        "    argument = lamb(rho,zeta, X[sing_indicies], Y[sing_indicies])\n",
        "\n",
        "    # W_FFy[sing_indicies] = (4*(K(argument)*((rho + X[sing_indicies])**2 + (Y[sing_indicies] - zeta)**2) + E(argument)*(Y[sing_indicies] - zeta)**2))/(np.sqrt((rho - X[sing_indicies])**2 + (Y[sing_indicies] - zeta)**2)*((rho + X[sing_indicies])**2 + (Y[sing_indicies] - zeta)**2)) - (3*(X[sing_indicies]**2 + 2*Y[sing_indicies]**2)*(rho**2 + 2*zeta**2))/(2.0*(X[sing_indicies]**2 + Y[sing_indicies]**2)**1.5*(rho**2 + zeta**2)**1.5) - (3*(rho**4*(3*X[sing_indicies]**4 - 24*X[sing_indicies]**2*Y[sing_indicies]*(Y[sing_indicies] + zeta) + 8*Y[sing_indicies]**3*(Y[sing_indicies] + 2*zeta)) + 8*zeta**3*(X[sing_indicies]**4*(2*Y[sing_indicies] + zeta) - 2*X[sing_indicies]**2*Y[sing_indicies]*(Y[sing_indicies]**2 + 11*Y[sing_indicies]*zeta - 3*zeta**2) - 4*Y[sing_indicies]**3*(Y[sing_indicies]**2 - 3*Y[sing_indicies]*zeta + zeta**2)) - 8*rho**2*zeta*(3*X[sing_indicies]**4*(Y[sing_indicies] + zeta) + 2*Y[sing_indicies]**3*(-3*Y[sing_indicies]**2 + 11*Y[sing_indicies]*zeta + zeta**2) - 3*X[sing_indicies]**2*Y[sing_indicies]*(Y[sing_indicies]**2 + 15*Y[sing_indicies]*zeta + zeta**2))))/(16.0*(X[sing_indicies]**2 + Y[sing_indicies]**2)**3.5*(rho**2 + zeta**2)**3.5) + (-(rho**4*(X[sing_indicies]**2 - 2*Y[sing_indicies]**2)) + 2*zeta**2*(X[sing_indicies]**4 + X[sing_indicies]**2*(3*Y[sing_indicies]**2 + 5*Y[sing_indicies]*zeta - zeta**2) + 2*Y[sing_indicies]**2*(Y[sing_indicies]**2 - 5*Y[sing_indicies]*zeta + zeta**2)) - rho**2*(X[sing_indicies]**4 + 2*Y[sing_indicies]**2*(Y[sing_indicies]**2 - 5*Y[sing_indicies]*zeta - 3*zeta**2) + X[sing_indicies]**2*(3*Y[sing_indicies]**2 + 5*Y[sing_indicies]*zeta + 3*zeta**2)))/(2.0*(X[sing_indicies]**2 + Y[sing_indicies]**2)**2.5*(rho**2 + zeta**2)**2.5)\n",
        "    W_FFy[sing_indicies] = (4*(K(argument)*((rho + X[sing_indicies])**2 + (Y[sing_indicies] - zeta)**2) + E(argument)*(Y[sing_indicies] - zeta)**2))/(np.sqrt((rho - X[sing_indicies])**2 + (Y[sing_indicies] - zeta)**2)*((rho + X[sing_indicies])**2 + (Y[sing_indicies] - zeta)**2)) - (3*(X[sing_indicies]**2 + 2*Y[sing_indicies]**2)*(rho**2 + 2*zeta**2))/(2.0*(X[sing_indicies]**2 + Y[sing_indicies]**2)**1.5*(rho**2 + zeta**2)**1.5) - (3*(rho**4*(3*X[sing_indicies]**4 - 24*X[sing_indicies]**2*Y[sing_indicies]*(Y[sing_indicies] + zeta) + 8*Y[sing_indicies]**3*(Y[sing_indicies] + 2*zeta)) + 8*zeta**3*(X[sing_indicies]**4*(2*Y[sing_indicies] + zeta) - 2*X[sing_indicies]**2*Y[sing_indicies]*(Y[sing_indicies]**2 + 11*Y[sing_indicies]*zeta - 3*zeta**2) - 4*Y[sing_indicies]**3*(Y[sing_indicies]**2 - 3*Y[sing_indicies]*zeta + zeta**2)) - 8*rho**2*zeta*(3*X[sing_indicies]**4*(Y[sing_indicies] + zeta) + 2*Y[sing_indicies]**3*(-3*Y[sing_indicies]**2 + 11*Y[sing_indicies]*zeta + zeta**2) - 3*X[sing_indicies]**2*Y[sing_indicies]*(Y[sing_indicies]**2 + 15*Y[sing_indicies]*zeta + zeta**2))))/(16.0*(X[sing_indicies]**2 + Y[sing_indicies]**2)**3.5*(rho**2 + zeta**2)**3.5) + (-(rho**4*(X[sing_indicies]**2 - 2*Y[sing_indicies]**2)) + 2*zeta**2*(X[sing_indicies]**4 + X[sing_indicies]**2*(3*Y[sing_indicies]**2 + 5*Y[sing_indicies]*zeta - zeta**2) + 2*Y[sing_indicies]**2*(Y[sing_indicies]**2 - 5*Y[sing_indicies]*zeta + zeta**2)) - rho**2*(X[sing_indicies]**4 + 2*Y[sing_indicies]**2*(Y[sing_indicies]**2 - 5*Y[sing_indicies]*zeta - 3*zeta**2) + X[sing_indicies]**2*(3*Y[sing_indicies]**2 + 5*Y[sing_indicies]*zeta + 3*zeta**2)))/(2.0*(X[sing_indicies]**2 + Y[sing_indicies]**2)**2.5*(rho**2 + zeta**2)**2.5)\n",
        "\n",
        "    return W_FFy\n",
        "\n",
        "  return W_FFx(rho,zeta,X,Y), W_FFy(rho,zeta, X, Y)"
      ]
    },
    {
      "cell_type": "markdown",
      "metadata": {
        "id": "FFZGUIKPRGOU"
      },
      "source": [
        "# Integration of w"
      ]
    },
    {
      "cell_type": "code",
      "execution_count": null,
      "metadata": {
        "id": "pwNyp0to6J_T"
      },
      "outputs": [],
      "source": [
        "def integration_of_Oseen(Astar, y0, yend, X, Y):\n",
        "\n",
        "\n",
        "  def trapzf(W,a,b,n):\n",
        "    h = (b-a)/(n-1)\n",
        "    x= a\n",
        "    r = np.zeros(len(X)) # initial value of y = int_a^b\n",
        "    for j in range(1,n-1):\n",
        "        x +=h\n",
        "        r = r + W(x)\n",
        "    r = (r + (W(a)+W(b))/2.0)*h\n",
        "    return r\n",
        "\n",
        "\n",
        "  def sph(zeta):\n",
        "    if A**2 - zeta**2 <= 0:\n",
        "        return 0.0\n",
        "\n",
        "    else:\n",
        "        return np.sqrt(A**2-zeta**2)\n",
        "\n",
        "  def shell(zeta, Astar):\n",
        "\n",
        "    if zeta < - Astar  :\n",
        "        return 0\n",
        "    elif -Astar < zeta <= Astar:\n",
        "        return np.sqrt(Astar**2-zeta**2)\n",
        "        #return 0\n",
        "    else:\n",
        "        return abs(Astar-A)\n",
        "\n",
        "    # change bounds in integration\n",
        "\n",
        "  def sph_shell(A, zeta):#do we even use this? no stem\n",
        "      if A**2 - zeta**2 <= 0:\n",
        "          return 0\n",
        "      else:\n",
        "          return np.sqrt(A**2-zeta**2)\n",
        "\n",
        "  # Oseen_x = Oseen_def(X,Y, rho, zeta, theta)\n",
        "\n",
        "  # Integration of Full Oseen in R direction\n",
        "\n",
        "  def wx_Full():\n",
        "      def Wtheta(theta):\n",
        "          def Wz(zeta):\n",
        "              def Wrho(rho):\n",
        "\n",
        "                Oseen_x, Oseen_y = Oseen_def(X,Y, rho, zeta, theta)\n",
        "\n",
        "\n",
        "                # removable_sing = 1\n",
        "                Wr = rho*Oseen_x\n",
        "\n",
        "                  #print('Wr[-1]=', Wr[-1], 'sph_shell at Astar', sph_shell(Astar, zeta),\"zeta\",zeta)\n",
        "                  #print(\"rem\",removable_sing,\"Wr\", Wr)\n",
        "                return Wr\n",
        "              Wzeta = trapzf(Wrho, sph(zeta), shell(zeta, Astar) , nrho)\n",
        "\n",
        "              return Wzeta\n",
        "          Wtheta=trapzf(Wz, y0, yend, nzeta)\n",
        "          return Wtheta\n",
        "      w = trapzf(Wtheta, 0.0, 2*np.pi, ntheta)\n",
        "\n",
        "      wx_full = -(rhot-rhob)*w* govereightpimu\n",
        "\n",
        "      return wx_full\n",
        "\n",
        "\n",
        "  def wy_Full():\n",
        "      def Wtheta(theta):\n",
        "          def Wz(zeta):\n",
        "              def Wrho(rho):\n",
        "\n",
        "                Oseen_x, Oseen_y = Oseen_def(X,Y, rho, zeta, theta)\n",
        "\n",
        "\n",
        "                # removable_sing = 1\n",
        "                Wr = rho*Oseen_y\n",
        "                  #print('Wr[-1]=', Wr[-1], 'sph_shell at Astar', sph_shell(Astar, zeta),\"zeta\",zeta)\n",
        "                  #print(\"rem\",removable_sing,\"Wr\", Wr)\n",
        "                return Wr\n",
        "              Wzeta = trapzf(Wrho, sph(zeta), shell(zeta, Astar) , nrho)\n",
        "\n",
        "              return Wzeta\n",
        "          Wtheta=trapzf(Wz, y0, yend, nzeta)\n",
        "          return Wtheta\n",
        "      w = trapzf(Wtheta, 0, 2*np.pi, ntheta)\n",
        "\n",
        "      wy_full = -(rhot-rhob)*w * govereightpimu\n",
        "\n",
        "      return wy_full\n",
        "\n",
        "\n",
        "\n",
        "\n",
        "\n",
        "  return wx_Full() , wy_Full()"
      ]
    },
    {
      "cell_type": "code",
      "execution_count": null,
      "metadata": {
        "id": "ttVx5yuqujT3"
      },
      "outputs": [],
      "source": [
        "def integration_of_FarField(yend, Astar, y0, X,Y ):\n",
        "\n",
        "\n",
        "  def trapz(W,a,b,n, X):\n",
        "    h = (b-a)/(n-1)\n",
        "    x= a\n",
        "    r = np.zeros(len(X)) # initial value of y = int_a^b\n",
        "    for j in range(1,n-1):\n",
        "        x +=h\n",
        "        r = r + W(x)\n",
        "    r = (r + (W(a)+W(b))/2.0)*h\n",
        "    return r\n",
        "\n",
        "\n",
        "  def sph(zeta):\n",
        "    if A**2 - zeta**2 < 0:\n",
        "        return 0.0\n",
        "\n",
        "    else:\n",
        "        return np.sqrt(A**2-zeta**2)\n",
        "\n",
        "  def shell(zeta, Astar):\n",
        "\n",
        "    if zeta <= - Astar  :\n",
        "        return 0.0\n",
        "    elif -Astar < zeta <= Astar:\n",
        "        return np.sqrt(Astar**2-zeta**2)\n",
        "        #return 0\n",
        "    else:\n",
        "        return abs(Astar-A) #for the stem portion\n",
        "\n",
        "    # change bounds in integration\n",
        "\n",
        "  # def sph_shell(A, zeta): #if we use this there is no stem\n",
        "  #     if A**2 - zeta**2 < 0:\n",
        "  #         return 0\n",
        "  #     else:\n",
        "  #         return np.sqrt(A**2-zeta**2)\n",
        "\n",
        "  # Oseen_x = Oseen_def(X,Y, rho, zeta, theta)\n",
        "\n",
        "  # Integration of FF in R direction\n",
        "  def wx_FF():\n",
        "\n",
        "    def Wz(zeta):\n",
        "      def Wrho(rho):\n",
        "\n",
        "        W_FFx, W_FFy = FarField_defs(rho, zeta, X, Y)\n",
        "\n",
        "        Wr = rho*W_FFx\n",
        "\n",
        "\n",
        "        return Wr\n",
        "            #return 0\n",
        "      Wzeta = trapz(Wrho, sph(zeta), shell(zeta, Astar), nrho, X)\n",
        "\n",
        "        #print('Sph(zeta)={sphzeta} and Shell(zeta)={shellzeta}'.format(sphzeta=sph(zeta),shellzeta=shell(zeta)))\n",
        "\n",
        "\n",
        "\n",
        "      return Wzeta\n",
        "\n",
        "    #print('y0 and yend', y0, yend)\n",
        "\n",
        "    w = trapz(Wz, y0, yend, nzeta, Y)\n",
        "\n",
        "    #print('wx_ff=', w)\n",
        "\n",
        "    return (rhot-rhob)*govereightpimu*w\n",
        "\n",
        "\n",
        "  # Integration of FF in Z direction\n",
        "  def wy_FF():\n",
        "\n",
        "    def Wz(zeta):\n",
        "      def Wrho(rho):\n",
        "\n",
        "        W_FFx, W_FFy = FarField_defs(rho, zeta, X, Y)\n",
        "\n",
        "        Wr = rho*W_FFy\n",
        "\n",
        "\n",
        "        return Wr\n",
        "            #return 0\n",
        "      Wzeta = trapz(Wrho, sph(zeta), shell(zeta, Astar), nrho, Y)\n",
        "\n",
        "        #print('Sph(zeta)={sphzeta} and Shell(zeta)={shellzeta}'.format(sphzeta=sph(zeta),shellzeta=shell(zeta)))\n",
        "\n",
        "\n",
        "\n",
        "      return Wzeta\n",
        "\n",
        "    #print('y0 and yend', y0, yend)\n",
        "\n",
        "    w = trapz(Wz, y0, yend, nzeta, X)\n",
        "\n",
        "    #print('wx_ff=', w)\n",
        "\n",
        "    return -(rhot-rhob)*govereightpimu*w\n",
        "\n",
        "\n",
        "\n",
        "\n",
        "\n",
        "\n",
        "\n",
        "\n",
        "\n",
        "\n",
        "\n",
        "\n",
        "  return wx_FF() , wy_FF()"
      ]
    },
    {
      "cell_type": "markdown",
      "metadata": {
        "id": "4ad4JqpQgKZA"
      },
      "source": [
        "#Interface Evolution"
      ]
    },
    {
      "cell_type": "code",
      "execution_count": null,
      "metadata": {
        "id": "G9GJZ8ylsSNC"
      },
      "outputs": [],
      "source": [
        "def RK4():\n",
        "\n",
        "  ##  NonUniform Interface (pt. distribution) square distribution near sphere\n",
        "\n",
        "  X = np.zeros( (Ndt, Ni+Nj))\n",
        "  X_1 = np.power(np.linspace(0, np.sqrt(3.0*A), Ni), 2)\n",
        "  X_2 = np.linspace(np.sqrt(2.00001**2 *A**2), R0, Nj)\n",
        "\n",
        "\n",
        "  X[0,:] = np.concatenate((X_1, X_2) )\n",
        "\n",
        "\n",
        "\n",
        "\n",
        "  # Initialization of Y - Array\n",
        "\n",
        "  Y = np.zeros( (Ndt, Ni+Nj))\n",
        "\n",
        "  Y[0,:] = y_start* np.ones_like(X[0,:])\n",
        "\n",
        "\n",
        "\n",
        "  # Initialization of radius array\n",
        "\n",
        "  r = np.zeros( (Ndt, Ni+Nj))\n",
        "\n",
        "  # Initialization of sphere velocity, yend, Astar, and time array\n",
        "\n",
        "  t_array=[]\n",
        "  sphvels = []\n",
        "  yend_array = []\n",
        "  Astar_array = []\n",
        "  S_int_array = []\n",
        "\n",
        "\n",
        "  # ----\n",
        "  #Vtop, Vbttm, sphvel = sphere_velocities(yend)\n",
        "\n",
        "  print('time','position','velocity')\n",
        "\n",
        "  for i in range(0, Ndt-1):\n",
        "\n",
        "    yend = Y[i, -1]\n",
        "    y0 = Y[i,0]\n",
        "    Astar = abs(Y[i,0])\n",
        "    # print('------------------------------------------')\n",
        "    # print('Time=', i)\n",
        "    # print('yend=', yend, 'y0=', y0, 'Astar=', Astar)\n",
        "    r[i, :] = np.sqrt(X[i, :]**2 + Y[i, :]**2)\n",
        "\n",
        "    #print(r)\n",
        "    Vtop, Vbttm, sphvel, s_int = sphere_velocities(yend, Astar, y0)\n",
        "\n",
        "    print( i, yend, sphvel)\n",
        "\n",
        "    ux, uy = stokesflow(yend, Astar, y0, r[i,:], X[i,:], Y[i,:])\n",
        "\n",
        "    #wx, wy = integration_of_Oseen(Astar, y0, yend, X[i,:],Y[i,:])\n",
        "\n",
        "\n",
        "    #ux1, uy1 = stokesflow(yend, Astar, y0, r[i,:], X[i,:], Y[i,:])\n",
        "\n",
        "    #wx1, wy1 = integration_of_Oseen(Astar, y0, yend, X[i,:],Y[i,:])\n",
        "\n",
        "\n",
        "    wx, wy = integration_of_FarField(yend, Astar, y0, X[i,:], Y[i,:])\n",
        "\n",
        "    #wx, wy = 0, 0\n",
        "\n",
        "\n",
        "\n",
        "    # print('V_s=(t={t})='.format(t=i), sphvel)\n",
        "    # #print('W_y=', wx)\n",
        "\n",
        "    # print('X=', X[i,:])\n",
        "    # print('Y=', Y[i,:])\n",
        "\n",
        "    # print('ux=', ux)\n",
        "    # print('uy=', uy)\n",
        "\n",
        "    # print('wx=', wx)\n",
        "    # print('wy=', wy)\n",
        "\n",
        "\n",
        "    t_array.append(i*dt)\n",
        "    yend_array.append(yend)\n",
        "\n",
        "    sphvels.append(-1*sphvel)\n",
        "    Astar_array.append(Astar)\n",
        "\n",
        "    S_int_array.append(s_int)\n",
        "\n",
        "\n",
        "    X[i+1, :] = X[i, :]+dt*(ux+wx) #radial -position step\n",
        "    Y[i+1, :] = Y[i, :]+dt*(uy+wy) #height -position steps\n",
        "\n",
        "\n",
        "    # k1x = (ux1+wx1)\n",
        "    # k1y = (uy1+wy1)\n",
        "\n",
        "    # ux2, uy2 = stokesflow(yend, Astar, y0, r[i+int(dt/2.0),:], X[i,:]+hf*k1x, Y[i,:]+hf*k1y)\n",
        "\n",
        "    # wx2, wy2 = integration_of_Oseen(Astar, y0, yend, X[i,:]+hf*k1x,Y[i,:]+hf*k1y)\n",
        "\n",
        "\n",
        "\n",
        "    # k2x = ux2+wx2\n",
        "    # k2y = uy2 +wy2\n",
        "\n",
        "    # ux3, uy3 = stokesflow(yend, Astar, y0, r[i+int(dt/2.0),:], X[i,:]+hf*k2x, Y[i,:]+hf*k2y)\n",
        "\n",
        "    # wx3, wy3 = integration_of_Oseen(Astar, y0, yend, X[i,:]+hf*k2x,Y[i,:]+hf*k2y)\n",
        "\n",
        "\n",
        "    # k3x = ux3+wx3\n",
        "    # k3y = uy3+wy3\n",
        "\n",
        "    # ux4, uy4 = stokesflow(yend, Astar, y0, r[i,:], X[i,:]+k3x, Y[i,:]+k3y)\n",
        "\n",
        "    # wx4, wy4 = integration_of_Oseen(Astar, y0, yend, X[i,:]+k3x,Y[i,:]+k3y)\n",
        "\n",
        "\n",
        "    # k4x = ux4+wx4\n",
        "    # k4y = uy4+wy4\n",
        "\n",
        "    # X[i+1, :] = X[i, :]+dt*sxth*(k1x+2*k2x+2*k3x+k4x) #radial -position step\n",
        "    # Y[i+1, :] = Y[i, :]+dt*sxth*(k1y+2*k2y+2*k3y+k4y) #height -position steps\n",
        "\n",
        "    # if sphvel > 0:\n",
        "    #   break\n",
        "\n",
        "    if yend > -5*y_start:\n",
        "      break\n",
        "\n",
        "  np.savetxt('{}/dataX.txt'.format(filename), X, delimiter=',', fmt='%s')\n",
        "  np.savetxt('{}/dataY.txt'.format(filename), Y, delimiter=',', fmt='%s')\n",
        "  #np.savetxt('{}/AstarArray.txt'.format(filename), Astar_array, delimiter=',', fmt='%s')\n",
        "  np.savetxt('{}/yend_array.txt'.format(filename), yend_array, delimiter=',', fmt='%s')\n",
        "  np.savetxt('{}/S_int_array.txt'.format(filename), S_int_array, delimiter=',', fmt='%s')\n",
        "  np.savetxt('{}/sphvels.txt'.format(filename), sphvels, delimiter=',', fmt='%s')\n",
        "  np.savetxt('{}/t_array.txt'.format(filename), t_array, delimiter=',', fmt='%s')\n",
        "  # np.savetxt('{}/wx_array.txt'.format(filename), wx_array, delimiter=',',fmt='%f')\n",
        "  # np.savetxt('{}/wy_array.txt'.format(filename), wy_array, delimiter=',',fmt='%f')\n",
        "  # np.savetxt('{}/ux_array.txt'.format(filename), ux_array, delimiter=',',fmt='%f')\n",
        "  # np.savetxt('{}/uy_array.txt'.format(filename), uy_array, delimiter=',',fmt='%f')\n",
        "\n",
        "  fieldtitle = 'Far_Field'\n",
        "  fieldtype = 'Far Field'\n",
        "\n",
        "  # fieldtitle = 'FarField_with_Full'\n",
        "  # fieldtype = 'Far \\,\\, Field\\, and\\, Full'\n",
        "\n",
        "  #fieldtitle = 'Near \\,\\, Field'\n",
        "\n",
        "  # fieldtype = 'Full Field'\n",
        "\n",
        "  # fieldtitle = 'Full_Field'\n",
        "\n",
        "  # fieldtype = 'W=0'\n",
        "\n",
        "  # fieldtitle = 'NoSIF'\n",
        "\n",
        "  infofile = open(\"{}/InfoFile.txt\".format(filename), 'a')\n",
        "  infofile.write('---- 𝐈𝐍𝐅𝐎 𝐅𝐈𝐋𝐄 ----'+'\\n'+'\\n')\n",
        "  infofile.write('Field Type: {fieldtype}'.format(fieldtype=fieldtype)+'\\n'+'\\n'+'\\n'+'\\n'+r'rho region = {rhoregion}, dt={dt}, T_Max= {Tmax:.2f}, A={A}, rho_s={rhos}, rho_t={rhot}, rho_b={rhob}, mu={mu}'.format(rhoregion=rhoregion, dt=dt, Tmax=Tmax, A=A, rhos=rhos, rhot=rhot, rhob=rhob, mu=mu)+'\\n'+'\\n'+r'N_i={Ni}, N_j={Nj}, nzeta={nzeta}, nrho={nrho}, ntheta={ntheta}, epsilon={eps}, y_start={ystart}'.format(Ni=Ni, Nj=Nj, nzeta=nzeta, nrho=nrho, ntheta=ntheta, eps = epsilon, ystart=y_start))\n",
        "  infofile.close()\n",
        "\n",
        "  return X,  Y , t_array, sphvels, yend_array, Astar_array, S_int_array #, yend_array, sphvels, wx_array, wy_array, ux_array, uy_array"
      ]
    },
    {
      "cell_type": "markdown",
      "metadata": {
        "id": "T_2eUXmfMVzA"
      },
      "source": [
        "# Plotting Results"
      ]
    },
    {
      "cell_type": "code",
      "execution_count": null,
      "metadata": {
        "id": "wZ7DDZdaW-dX"
      },
      "outputs": [],
      "source": [
        "Nplots=0"
      ]
    },
    {
      "cell_type": "code",
      "execution_count": null,
      "metadata": {
        "id": "U7YbiPd7sF8s"
      },
      "outputs": [],
      "source": [
        "def flow_plotter(X, Y, Astar_array):\n",
        "\n",
        "\n",
        "  # Setting up plot\n",
        "\n",
        "  fig, ax = plt.subplots( figsize=(10,10), sharex=True, sharey=False)\n",
        "\n",
        "  flowsuptitle = r'Stokes Flow Euler Approximation'+'\\n'+'\\n'\n",
        "\n",
        "  flowtitle = r'$dt={dt}, T_M= {Tmax:.2f}, A={A},\\, \\rho_s={rhos}, \\rho_t={rhot}, \\rho_b={rhob}, \\mu  ={mu}$'.format(dt=dt, Tmax=Tmax, A=A, rhos=rhos, rhot=rhot, rhob=rhob, mu=mu)+'\\n'+'\\n'+r'$T_{run} = $'+'\\n'+'\\n'+r'$N_i={Ni}, N_j={Nj}, dV_w={a}$'.format(Ni=Ni, Nj=Nj, a=a)\n",
        "\n",
        "  fig.suptitle(flowsuptitle, y=1.05, fontweight=\"bold\")\n",
        "  plt.title(flowtitle, y= 1.1)\n",
        "\n",
        "  ax.set_xlabel(\"x-position\")\n",
        "  ax.set_ylabel(\"y-position\")\n",
        "\n",
        "  # Plotting a sphere of radius\n",
        "\n",
        "  sphx = np.linspace(0,A, 100)\n",
        "  sphyp = np.sqrt(A**2- sphx**2)\n",
        "  sphym = - sphyp\n",
        "\n",
        "\n",
        "  ax.plot(sphx, sphyp, 'k', sphx, sphym, 'k', -sphx, -sphyp, 'k', -sphx, sphyp, 'k', lw=2)\n",
        "\n",
        "\n",
        "\n",
        "\n",
        "  for i in range(0, Ndt-1):\n",
        "      if i %  2000 == 0:\n",
        "          #print('yend=',yend,'w_y=', w_y[-1])\n",
        "\n",
        "          ax.plot( X[i, :], Y[i, :], color='tab:blue', linewidth=lineweight)\n",
        "          ax.plot( -X[i, :], Y[i, :], color='tab:blue', linewidth=lineweight)\n",
        "\n",
        "\n",
        "          # Plotting shell\n",
        "\n",
        "          #sphxs = np.linspace(0,Astar_array[i], 100)\n",
        "          #sphyps = np.sqrt(Astar_array[i]**2- sphxs**2)\n",
        "          #sphyms = - sphyps\n",
        "\n",
        "\n",
        "          #ax.plot(sphxs, sphyps, 'tab:orange', sphxs, sphyms, 'tab:orange', -sphxs, -sphyps, 'tab:orange', -sphxs, sphyps, 'tab:orange', ls='dashed', lw=1.0)\n",
        "\n",
        "\n",
        "\n",
        "          #ax.scatter( X[i, :], Y[i, :], c='k')\n",
        "          #ax.scatter( -X[i, :], Y[i, :], c='k')\n",
        "\n",
        "\n",
        "\n",
        "          ax.set_ylim([Y[0,0]*1.2, -Y[0,0]*1.5])\n",
        "\n",
        "          ax.set(adjustable='box', aspect='equal')\n",
        "          # plot the shell model at particular time steps\n",
        "\n",
        "  #         if i %  50 == 0: # want every 15 time steps plotted (the current mod doesn't work )\n",
        "\n",
        "  #             Astar = Y[i, 0]\n",
        "\n",
        "  #             shellx = np.linspace(0, Astar, 100)\n",
        "  #             shellyp = np.sqrt(Astar**2-shellx**2)\n",
        "  #             shellym = - shellyp\n",
        "\n",
        "  #             ax.plot(shellx, shellyp, 'k', shellx, shellym, 'k', -shellx, -shellyp, 'k', -shellx, shellyp, 'k', alpha=0.15, linestyle='dashed')\n",
        "\n",
        "\n",
        "      # plotting the last flow line\n",
        "      ax.plot( X[-1, :], Y[-1, :], color='tab:orange', linewidth=lineweight)\n",
        "      ax.plot( -X[-1, :], Y[-1, :], color='tab:orange', linewidth = lineweight)\n",
        "\n",
        "\n",
        "  #     if yend >= 2*A:\n",
        "  #         break\n",
        "\n",
        "\n",
        "      ax.set_xlim([-R0*1.1,R0*1.1])\n",
        "      ax.set(adjustable='box', aspect='equal')\n",
        "      fig.tight_layout()\n",
        "\n",
        "  #fieldtype = 'No Stratification-Flow'\n",
        "  # fieldtype = 'Full Field'\n",
        "  # fieldtype = 'Far Field'\n",
        "\n",
        "\n",
        "  plt.savefig(\"{filename}/EulerStokes_FlowPlot.png\".format(filename=filename),bbox_inches =\"tight\", facecolor='white')\n"
      ]
    },
    {
      "cell_type": "code",
      "execution_count": null,
      "metadata": {
        "colab": {
          "base_uri": "https://localhost:8080/",
          "height": 35
        },
        "id": "BLKO-UvYqJNP",
        "outputId": "7ddfb8d9-cb16-479d-8ab0-01c959b15597"
      },
      "outputs": [
        {
          "output_type": "execute_result",
          "data": {
            "text/plain": [
              "'/content/gdrive/MyDrive/Output/2024-07/11/16_37'"
            ],
            "application/vnd.google.colaboratory.intrinsic+json": {
              "type": "string"
            }
          },
          "metadata": {},
          "execution_count": 21
        }
      ],
      "source": [
        "filename"
      ]
    },
    {
      "cell_type": "code",
      "execution_count": null,
      "metadata": {
        "id": "ybfGrakzvRIT"
      },
      "outputs": [],
      "source": [
        "V_TermTop =  (2*A**2 *g)/(9*mu)*(rhot-rhos)\n",
        "V_TermBttm = (2*A**2 *g)/(9*mu)*(rhob-rhos)\n",
        "\n"
      ]
    },
    {
      "cell_type": "code",
      "execution_count": null,
      "metadata": {
        "colab": {
          "base_uri": "https://localhost:8080/"
        },
        "id": "v9KW2DH8SEhN",
        "outputId": "69b05d38-fc37-4629-b017-388647d4e0e8"
      },
      "outputs": [
        {
          "output_type": "execute_result",
          "data": {
            "text/plain": [
              "-0.5629536392259692"
            ]
          },
          "metadata": {},
          "execution_count": 23
        }
      ],
      "source": [
        "V_TermBttm"
      ]
    },
    {
      "cell_type": "code",
      "execution_count": null,
      "metadata": {
        "id": "EjwUJ9qmuF9x"
      },
      "outputs": [],
      "source": [
        "def metrics(t_array, sphvels, yend_array, Y, Astar_array, S_int_array):\n",
        "\n",
        "  plt1, axes = plt.subplots()\n",
        "  V_TermTop =  (2*A**2 *g)/(9*mu)*(rhot-rhos)\n",
        "  V_TermBttm = (2*A**2 *g)/(9*mu)*(rhob-rhos)\n",
        "\n",
        "\n",
        "  plt.title('Sphere Velocity vs. Time')\n",
        "  plt.xlabel('Time (s)')\n",
        "  plt.ylabel('Velocity (cm/s)')\n",
        "\n",
        "\n",
        "  plt.plot(t_array, sphvels, color='tab:blue', label='Simulation')\n",
        "\n",
        "  plt.axhline(y= -V_TermBttm, color='tab:orange', linestyle='dashed', alpha=0.9, label = r'$V_{Term,Bottom}$')\n",
        "\n",
        "  plt.axhline(y= -V_TermTop, color='tab:grey', linestyle=':', alpha=0.5, label = r'$V_{Term,Top}$')\n",
        "  #plt.axhline(y= 0, color='tab:grey', linestyle=':', alpha=0.2)\n",
        "\n",
        "\n",
        "  plt.savefig(\"{filename}/Velocity_v_time.png\".format(filename=filename),bbox_inches =\"tight\", facecolor='white')\n",
        "\n",
        "  plt.legend()\n",
        "\n",
        "  plt2, axes = plt.subplots()\n",
        "  V_TermTop =  (2*A**2 *g)/(9*mu)*(rhot-rhos)\n",
        "  V_TermBttm = (2*A**2 *g)/(9*mu)*(rhob-rhos)\n",
        "\n",
        "\n",
        "  plt.title('Sphere Velocity vs. yend')\n",
        "  plt.xlabel('yend (cm)')\n",
        "  plt.ylabel('Velocity (cm/s)')\n",
        "\n",
        "  plt.plot(yend_array, sphvels, color='tab:blue', label='Simulation')\n",
        "\n",
        "  plt.axhline(y= -V_TermBttm, color='tab:orange', linestyle='dashed', alpha=0.9, label = r'$V_{Term,Bottom}$')\n",
        "\n",
        "  plt.axhline(y= -V_TermTop, color='tab:grey', linestyle=':', alpha=0.5, label = r'$V_{Term,Top}$')\n",
        "\n",
        "  plt.axvline(x=A, color = 'tab:green', linestyle='dashed', label=r'$\\pm A$')\n",
        "  plt.axvline(x=-A, color='tab:green', linestyle='dashed')\n",
        "\n",
        "\n",
        "  plt.legend()\n",
        "\n",
        "  plt.savefig(\"{filename}/Velocity_v_yend.png\".format(filename=filename),bbox_inches =\"tight\", facecolor='white')\n",
        "\n",
        "\n",
        "\n",
        "\n",
        "  plt3, axes = plt.subplots()\n",
        "\n",
        "  plt.title(r'A* vs. time')\n",
        "  plt.xlabel('time')\n",
        "  plt.ylabel('A*')\n",
        "  plt.hlines(y=A, xmin=0, xmax = Tmax, linestyle='dashed', color='tab:orange', label='A')\n",
        "  plt.plot(np.linspace(0, Tmax, len(Astar_array)), Astar_array)\n",
        "\n",
        "  plt.legend()\n",
        "  #plt.savefig(\"{filename}/Astar_v_time.png\".format(filename=filename),bbox_inches =\"tight\", facecolor='white')\n",
        "\n",
        "  plt4, axes = plt.subplots()\n",
        "\n",
        "  plt.title(r'A* vs. yend')\n",
        "  plt.xlabel('yend')\n",
        "  plt.ylabel('A*')\n",
        "  plt.hlines(y=A, xmin=yend_array[0], xmax = Tmax, linestyle='dashed', color='tab:orange', label='A')\n",
        "  plt.plot(yend_array, Astar_array)\n",
        "\n",
        "  plt.legend()\n",
        "  #plt.savefig(\"{filename}/Astar_v_yend.png\".format(filename=filename),bbox_inches =\"tight\", facecolor='white')\n",
        "\n",
        "  plt6, axes = plt.subplots()\n",
        "\n",
        "  plt.title('Stratifcation Force')\n",
        "  plt.xlabel('Time (s)')\n",
        "  plt.ylabel('Stratifciation Force (cm/s)')\n",
        "\n",
        "  plt.plot(t_array, S_int_array, color='tab:blue', label='Simulation')\n",
        "\n",
        "\n",
        "  plt.axhline(y= 0, color='tab:grey', linestyle=':', alpha=0.2)\n",
        "\n",
        "  plt.legend()\n",
        "\n",
        "  plt.savefig(\"{filename}/StratificationForce_v_time.png\".format(filename=filename),bbox_inches =\"tight\", facecolor='white')\n",
        "\n"
      ]
    },
    {
      "cell_type": "markdown",
      "metadata": {
        "id": "7TxLG8Ie9Izi"
      },
      "source": [
        "# The Main Function"
      ]
    },
    {
      "cell_type": "code",
      "execution_count": null,
      "metadata": {
        "id": "NG0VIkU7qjQy"
      },
      "outputs": [],
      "source": [
        "def main():\n",
        "\n",
        "  X, Y, t_array, sphvels, yend_array, Astar_array, S_int_array = RK4()\n",
        "\n",
        "  #flow_plotter(X,Y, Astar_array)\n",
        "\n",
        "\n",
        "  metrics(t_array, sphvels, yend_array, Y, Astar_array, S_int_array)\n",
        "\n",
        "  #return X,Y\n",
        "\n",
        "\n"
      ]
    },
    {
      "cell_type": "markdown",
      "metadata": {
        "id": "RN46DGF3gVQj"
      },
      "source": [
        "# Run The Code"
      ]
    },
    {
      "cell_type": "code",
      "execution_count": null,
      "metadata": {
        "colab": {
          "base_uri": "https://localhost:8080/",
          "height": 1000
        },
        "id": "trfMSBQ_q-gQ",
        "outputId": "0fb3bba9-d308-4b08-faaa-a573396f2d57"
      },
      "outputs": [
        {
          "output_type": "stream",
          "name": "stdout",
          "text": [
            "time position velocity\n",
            "0 -5.0 -0.5723361998797385\n",
            "1158 25.016665873306287 -0.5624700743658727\n"
          ]
        },
        {
          "output_type": "display_data",
          "data": {
            "text/plain": [
              "<Figure size 640x480 with 1 Axes>"
            ],
            "image/png": "[encoded data removed]"
          },
          "metadata": {}
        },
        {
          "output_type": "display_data",
          "data": {
            "text/plain": [
              "<Figure size 640x480 with 1 Axes>"
            ],
            "image/png": "[encoded data removed]"
          },
          "metadata": {}
        },
        {
          "output_type": "display_data",
          "data": {
            "text/plain": [
              "<Figure size 640x480 with 1 Axes>"
            ],
            "image/png": "[encoded data removed]"
          },
          "metadata": {}
        },
        {
          "output_type": "display_data",
          "data": {
            "text/plain": [
              "<Figure size 640x480 with 1 Axes>"
            ],
            "image/png": "[encoded data removed]"
          },
          "metadata": {}
        },
        {
          "output_type": "display_data",
          "data": {
            "text/plain": [
              "<Figure size 640x480 with 1 Axes>"
            ],
            "image/png": "[encoded data removed]"
          },
          "metadata": {}
        }
      ],
      "source": [
        "main()"
      ]
    },
    {
      "cell_type": "markdown",
      "metadata": {
        "id": "Iz-uxxw6k8TX"
      },
      "source": [
        "end of script\n"
      ]
    },
    {
      "cell_type": "code",
      "execution_count": null,
      "metadata": {
        "id": "5mC2tXNEk-jI"
      },
      "outputs": [],
      "source": []
    }
  ],
  "metadata": {
    "colab": {
      "provenance": []
    },
    "kernelspec": {
      "display_name": "Python 3",
      "name": "python3"
    },
    "language_info": {
      "name": "python"
    }
  },
  "nbformat": 4,
  "nbformat_minor": 0
}
